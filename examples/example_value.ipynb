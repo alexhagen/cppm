{
 "cells": [
  {
   "cell_type": "markdown",
   "metadata": {
    "deletable": true,
    "editable": true
   },
   "source": [
    "### ah_value - Stateful Variables\n",
    "\n",
    "The ``ah_value`` class is a simple, encapsulated c++ class to help track values.  It is written with the signal-slot paradigm so that events can be triggered as the values change.  This is a way to decrease the overhead that must happen to trace some values (such as checking if something is over a certain value every loop).\n",
    "\n",
    "#### Usage\n",
    "\n",
    "Lets say we want to create a program that indicates whether a motor is up to speed, and thereafter, how much it has varied from that speed.  First, we need some sort of notifier class.  This class holds the value object, and also the notifier (duh) method, that will ring back and tell us when the alarm goes off."
   ]
  },
  {
   "cell_type": "code",
   "execution_count": 12,
   "metadata": {
    "collapsed": false,
    "deletable": true,
    "editable": true,
    "hide_input": true
   },
   "outputs": [],
   "source": [
    "from cppm import cppmagic"
   ]
  },
  {
   "cell_type": "code",
   "execution_count": 14,
   "metadata": {
    "collapsed": false,
    "deletable": true,
    "editable": true
   },
   "outputs": [],
   "source": [
    "%%include notifier\n",
    "#include \"../common/sigslot.h\"\n",
    "#include \"../ah_value.h\"\n",
    "#include <stdio.h>\n",
    "\n",
    "class notifier : public sigslot::has_slots<>{\n",
    "// we have to make this a sigslot so that it can accept slots\n",
    "public:\n",
    "    // a value object for our notifier class\n",
    "    value<int> *vl;\n",
    "    // a constructor to pass in an external notifier class\n",
    "    notifier(value<int>*);\n",
    "    // we need a slot that will tell when it's up to speed\n",
    "    void up_to_speed(void);\n",
    "};\n",
    "\n",
    "notifier::notifier(value<int> *_vl){\n",
    "    vl = _vl;\n",
    "}\n",
    "\n",
    "void notifier::up_to_speed(void){\n",
    "    // let us know that we're up to speed\n",
    "    printf(\"Motor is up to speed\\n\");\n",
    "    // now reset the max min so we only get the maximum and minimum when up to\n",
    "    // speed\n",
    "    vl->resetmaxmin();\n",
    "}"
   ]
  },
  {
   "cell_type": "markdown",
   "metadata": {},
   "source": [
    "This is a great example for using a custom compiler with the ``cppmagics`` class.  Below we'll set the compiler to something older and add the ``-Wall`` option.  I don't think either of these are necessary, but they work."
   ]
  },
  {
   "cell_type": "code",
   "execution_count": 16,
   "metadata": {
    "collapsed": false,
    "deletable": true,
    "editable": true
   },
   "outputs": [],
   "source": [
    "%set_compiler g++-4.8 --std=c++11 -Wall"
   ]
  },
  {
   "cell_type": "markdown",
   "metadata": {},
   "source": [
    "Finally, we need to write the main.  We create our value and instantiate our notifier.  We'll use the wonderful ``sigslot.h`` from Sarah Thomson (which I believe has no license, but if it does, tell me and I'll comply), to connect the ``up_to_speed`` method/slot to when the ``abovelevel`` signal is tripped.  Finally, we'll make up some data, and then look at the max and min of the data."
   ]
  },
  {
   "cell_type": "code",
   "execution_count": 17,
   "metadata": {
    "collapsed": false,
    "deletable": true,
    "editable": true
   },
   "outputs": [
    {
     "name": "stdout",
     "output_type": "stream",
     "text": [
      "Motor is up to speed\n",
      "The maximum when up to speed was 9, and the minimum was 5.\n",
      "\n"
     ]
    }
   ],
   "source": [
    "%%runcpp test_value\n",
    "#include \"../ah_value.h\"\n",
    "#include \"notifier.h\"\n",
    "\n",
    "int main(void){\n",
    "    // we need to create a new value class of type int\n",
    "    value<int> *vl = new value<int>();\n",
    "    // we need to create a new notifier class and pass in our value\n",
    "    notifier *ntfr = new notifier(vl);\n",
    "    // we need to connect the signal for above level to the slot telling us\n",
    "    // we're up to speed\n",
    "    vl->abovelevel.connect(ntfr, &notifier::up_to_speed);\n",
    "    // now we have to set what level we're up to speed at\n",
    "    vl->setlevel(5);\n",
    "    // now we want to slowly increase the speed\n",
    "    vl->set(0);\n",
    "    vl->set(1);\n",
    "    vl->set(3);\n",
    "    vl->set(5);\n",
    "    vl->set(7);\n",
    "    vl->set(9);\n",
    "    vl->set(7);\n",
    "    vl->set(5);\n",
    "    // now that we're back below speed (remember we said *above* 5), we can end\n",
    "    // and look at details\n",
    "    printf(\"The maximum when up to speed was %d, and the minimum was %d.\\n\", \\\n",
    "        vl->getmax(),vl->getmin());\n",
    "\n",
    "    return 0;\n",
    "}"
   ]
  }
 ],
 "metadata": {
  "hide_input": false,
  "kernelspec": {
   "display_name": "Python 2",
   "language": "python",
   "name": "python2"
  },
  "language_info": {
   "codemirror_mode": {
    "name": "ipython",
    "version": 2
   },
   "file_extension": ".py",
   "mimetype": "text/x-python",
   "name": "python",
   "nbconvert_exporter": "python",
   "pygments_lexer": "ipython2",
   "version": "2.7.12"
  },
  "latex_envs": {
   "LaTeX_envs_menu_present": true,
   "autocomplete": true,
   "bibliofile": "biblio.bib",
   "cite_by": "apalike",
   "current_citInitial": 1,
   "eqLabelWithNumbers": true,
   "eqNumInitial": 1,
   "hotkeys": {
    "equation": "Ctrl-E",
    "itemize": "Ctrl-I"
   },
   "labels_anchors": false,
   "latex_user_defs": false,
   "report_style_numbering": false,
   "user_envs_cfg": false
  }
 },
 "nbformat": 4,
 "nbformat_minor": 2
}
