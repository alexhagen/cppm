{
 "cells": [
  {
   "cell_type": "markdown",
   "metadata": {
    "deletable": true,
    "editable": true
   },
   "source": [
    "### ah_value - Stateful Variables\n",
    "\n",
    "The AH Value class is a simple, encapsulated c++ class to help track values.  It\n",
    "is written with the signal-slot paradigm so that events can be triggered as the\n",
    "values change, corresponding.  This is a way to decrease the overhead that must\n",
    "happen to trace some values (such as checking if something is over a certain\n",
    "value every loop).\n",
    "\n",
    "#### Installation\n",
    "\n",
    "Installation of the ah_value class is simple.  Place the ah_value.h file\n",
    "somewhere where your compiler can see it (as well as the common directory, as it\n",
    "includes sigslot.h).  Then, connect your signals and move forward.\n",
    "\n",
    "#### Usage\n",
    "\n",
    "Follow the steps below to use the `ah_value` class.\n",
    "\n",
    "Lets say we want to create a program that indicates whether a motor is up to\n",
    "speed, and thereafter, how much it has varied from that speed.  We would write a\n",
    "notifier class, as below."
   ]
  },
  {
   "cell_type": "code",
   "execution_count": 3,
   "metadata": {
    "collapsed": false,
    "deletable": true,
    "editable": true
   },
   "outputs": [
    {
     "ename": "ImportError",
     "evalue": "No module named spinner",
     "output_type": "error",
     "traceback": [
      "\u001b[0;31m---------------------------------------------------------------------------\u001b[0m",
      "\u001b[0;31mImportError\u001b[0m                               Traceback (most recent call last)",
      "\u001b[0;32m<ipython-input-3-98bda62d7fbe>\u001b[0m in \u001b[0;36m<module>\u001b[0;34m()\u001b[0m\n\u001b[0;32m----> 1\u001b[0;31m \u001b[0;32mfrom\u001b[0m \u001b[0mcppm\u001b[0m \u001b[0;32mimport\u001b[0m \u001b[0mcppmagic\u001b[0m\u001b[0;34m\u001b[0m\u001b[0m\n\u001b[0m",
      "\u001b[0;32m/home/ahagen/code/cppm/cppmagic.py\u001b[0m in \u001b[0;36m<module>\u001b[0;34m()\u001b[0m\n\u001b[1;32m      2\u001b[0m                                 cell_magic, line_cell_magic)\n\u001b[1;32m      3\u001b[0m \u001b[0;32mfrom\u001b[0m \u001b[0mconcurrent\u001b[0m\u001b[0;34m.\u001b[0m\u001b[0mfutures\u001b[0m \u001b[0;32mimport\u001b[0m \u001b[0mThreadPoolExecutor\u001b[0m\u001b[0;34m,\u001b[0m \u001b[0mProcessPoolExecutor\u001b[0m\u001b[0;34m\u001b[0m\u001b[0m\n\u001b[0;32m----> 4\u001b[0;31m \u001b[0;32mfrom\u001b[0m \u001b[0;34m.\u001b[0m\u001b[0mspinner\u001b[0m \u001b[0;32mimport\u001b[0m \u001b[0mSpinner\u001b[0m\u001b[0;34m\u001b[0m\u001b[0m\n\u001b[0m\u001b[1;32m      5\u001b[0m \u001b[0;32mimport\u001b[0m \u001b[0mos\u001b[0m\u001b[0;34m\u001b[0m\u001b[0m\n\u001b[1;32m      6\u001b[0m \u001b[0;32mimport\u001b[0m \u001b[0msubprocess\u001b[0m\u001b[0;34m\u001b[0m\u001b[0m\n",
      "\u001b[0;31mImportError\u001b[0m: No module named spinner"
     ]
    }
   ],
   "source": [
    "from cppm import cppmagic"
   ]
  },
  {
   "cell_type": "code",
   "execution_count": 1,
   "metadata": {
    "collapsed": false,
    "deletable": true,
    "editable": true
   },
   "outputs": [
    {
     "name": "stderr",
     "output_type": "stream",
     "text": [
      "ERROR:root:Cell magic `%%runcppnb` not found.\n"
     ]
    }
   ],
   "source": [
    "%%runcppnb shm_server\n",
    "#include \"sigslot.h\"\n",
    "#include \"ah_value.h\"\n",
    "#include <stdio.h>\n",
    "\n",
    "class notifier : public sigslot::has_slots<>{\n",
    "\t\t\t\t // we have to make this a sigslot so that it can accept slots\n",
    "public:\n",
    "\t// a value object for our notifier class\n",
    "\tvalue<int> *vl;\n",
    "\t// a constructor to pass in an external notifier class\n",
    "\tnotifier(value<int>*);\n",
    "\t// we need a slot that will tell when it's up to speed\n",
    "\tvoid up_to_speed(void);\n",
    "}\n",
    "\n",
    "notifier::notifier(value<int> *_vl){\n",
    "\tvl = _vl;\n",
    "}\n",
    "\n",
    "void notifier::up_to_speed(void){\n",
    "\t// let us know that we're up to speed\n",
    "\tprintf(\"Motor is up to speed\\n\");\n",
    "\t// now reset the max min so we only get the maximum and minimum when up to\n",
    "\t// speed\n",
    "\tvl->resetmaxmin();\n",
    "}\n",
    "\n",
    "int main(void){\n",
    "\t// we need to create a new value class of type int\n",
    "\tvalue<int> *vl = new value<int>();\n",
    "\t// we need to create a new notifier class and pass in our value\n",
    "\tnotifier *ntfr = new notifier(vl);\n",
    "\t// we need to connect the signal for above level to the slot telling us\n",
    "\t// we're up to speed\n",
    "\tvl->abovelevel.connect(&ntfr,notifier::up_to_speed);\n",
    "\t// now we have to set what level we're up to speed at\n",
    "\tvl->setlevel(5);\n",
    "\t// now we want to slowly increase the speed\n",
    "\tvl->set(0);\n",
    "\tvl->set(1);\n",
    "\tvl->set(3);\n",
    "\tvl->set(5);\n",
    "\tvl->set(7);\n",
    "\tvl->set(9);\n",
    "\tvl->set(7);\n",
    "\tvl->set(5);\n",
    "\t// now that we're back below speed (remember we said *above* 5), we can end\n",
    "\t// and look at details\n",
    "\tprintf(\"The maximum when up to speed was %d, and the minimum was %d.\\n\", \\\n",
    "\t\tvl->getmax(),vl->getmin());\n",
    "\n",
    "\treturn 0;\n",
    "}"
   ]
  },
  {
   "cell_type": "code",
   "execution_count": null,
   "metadata": {
    "collapsed": false,
    "deletable": true,
    "editable": true
   },
   "outputs": [],
   "source": [
    "%%runcpp shm_client\n",
    "#include \"../ah_shm.h\"\n",
    "\n",
    "int main(void){\n",
    "    int a;\n",
    "    shm_client<int> *some_var = new shm_client<int>(5678);\n",
    "    a=some_var->get();\n",
    "    printf(\"%d\\n\",a);\n",
    "\n",
    "    return 0;\n",
    "}"
   ]
  },
  {
   "cell_type": "code",
   "execution_count": null,
   "metadata": {
    "collapsed": true,
    "deletable": true,
    "editable": true
   },
   "outputs": [],
   "source": []
  }
 ],
 "metadata": {
  "hide_input": false,
  "kernelspec": {
   "display_name": "Python 2",
   "language": "python",
   "name": "python2"
  },
  "language_info": {
   "codemirror_mode": {
    "name": "ipython",
    "version": 2
   },
   "file_extension": ".py",
   "mimetype": "text/x-python",
   "name": "python",
   "nbconvert_exporter": "python",
   "pygments_lexer": "ipython2",
   "version": "2.7.12"
  },
  "latex_envs": {
   "LaTeX_envs_menu_present": true,
   "autocomplete": true,
   "bibliofile": "biblio.bib",
   "cite_by": "apalike",
   "current_citInitial": 1,
   "eqLabelWithNumbers": true,
   "eqNumInitial": 1,
   "hotkeys": {
    "equation": "Ctrl-E",
    "itemize": "Ctrl-I"
   },
   "labels_anchors": false,
   "latex_user_defs": false,
   "report_style_numbering": false,
   "user_envs_cfg": false
  }
 },
 "nbformat": 4,
 "nbformat_minor": 2
}
