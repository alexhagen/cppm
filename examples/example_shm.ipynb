{
 "cells": [
  {
   "cell_type": "markdown",
   "metadata": {
    "deletable": true,
    "editable": true
   },
   "source": [
    "### shm - Shared Memory\n",
    "\n",
    "I created this shared memory interface to pass variables amongst processes in linux for a detector firmware I was writing.  It uses the ``shmget`` and ``shmat`` C interface under the hood, but that's all so non-semantic when you code it that you shouldn't have to worry about it.\n",
    "\n",
    "#### Example\n",
    "\n",
    "My fiance is watching the tv show Sherlock Holmes behind me, so this example is themed on that show.\n",
    "\n",
    "First, we have to create some server for the shared memory.  This server has to be open for the client process to read it, so we'll just keep it open indefinitely.  We also have to define a unique identifier for the shared memory server."
   ]
  },
  {
   "cell_type": "code",
   "execution_count": 3,
   "metadata": {
    "collapsed": false,
    "deletable": true,
    "editable": true,
    "hide_input": false
   },
   "outputs": [],
   "source": [
    "from cppm import cppmagic"
   ]
  },
  {
   "cell_type": "code",
   "execution_count": 10,
   "metadata": {
    "collapsed": true
   },
   "outputs": [],
   "source": [
    "%set_compiler g++ --std=c++11 -I/usr/include/glib-2.0 -I/usr/lib/x86_64-linux-gnu/glib-2.0/include -lglib-2.0"
   ]
  },
  {
   "cell_type": "code",
   "execution_count": 11,
   "metadata": {
    "collapsed": false,
    "deletable": true,
    "editable": true
   },
   "outputs": [],
   "source": [
    "%%runcppnb shm_server\n",
    "#include \"../ah_shm.h\"\n",
    "#include \"../ah_signal.h\"\n",
    "#include <string>\n",
    "\n",
    "int run = 1;\n",
    "\n",
    "void cleanup(int signum){\n",
    "    run = 0;\n",
    "}\n",
    "\n",
    "int main(void){\n",
    "    // create the shm server\n",
    "    shm_server<std::string> *sherlock = new shm_server<std::string>(5678);\n",
    "    // latch a cleanup function onto the SIGTERM signal\n",
    "    ah_signal(SIGTERM, &cleanup);\n",
    "\n",
    "    while (run){\n",
    "        sherlock->set(\"is a good guy!\");\n",
    "        sleep(1);\n",
    "        sherlock->set(\"is a bad guy!\");\n",
    "        sleep(1);\n",
    "        sherlock->set(\"is dead!\");\n",
    "        sleep(1);\n",
    "        sherlock->set(\"is now alive again!\");\n",
    "        sleep(1);\n",
    "    }\n",
    "    \n",
    "    delete sherlock;\n",
    "    return 0;\n",
    "}"
   ]
  },
  {
   "cell_type": "markdown",
   "metadata": {
    "deletable": true,
    "editable": true
   },
   "source": [
    "Now, to connect to the memory.  We have to attach using the same key, which is a little bit of a paint, but if you use macros effectively, it'll just be like pointing at a file.  This client will be way faster than using files though, for time intensive processes, use these ``shm``s."
   ]
  },
  {
   "cell_type": "code",
   "execution_count": 12,
   "metadata": {
    "collapsed": false,
    "deletable": true,
    "editable": true
   },
   "outputs": [
    {
     "name": "stdout",
     "output_type": "stream",
     "text": [
      "output: \n"
     ]
    },
    {
     "ename": "RuntimeError",
     "evalue": "Segmentation fault (core dumped)\n",
     "output_type": "error",
     "traceback": [
      "\u001b[0;31m\u001b[0m",
      "\u001b[0;31mRuntimeError\u001b[0mTraceback (most recent call last)",
      "\u001b[0;32m<ipython-input-12-7de721e27b8b>\u001b[0m in \u001b[0;36m<module>\u001b[0;34m()\u001b[0m\n\u001b[0;32m----> 1\u001b[0;31m \u001b[0mget_ipython\u001b[0m\u001b[0;34m(\u001b[0m\u001b[0;34m)\u001b[0m\u001b[0;34m.\u001b[0m\u001b[0mrun_cell_magic\u001b[0m\u001b[0;34m(\u001b[0m\u001b[0;34mu'runcpp'\u001b[0m\u001b[0;34m,\u001b[0m \u001b[0;34mu'shm_client'\u001b[0m\u001b[0;34m,\u001b[0m \u001b[0;34mu'#include \"../ah_shm.h\"\\n#include <string>\\n\\nint main(void){\\n    shm_client<std::string> *holmes = new shm_client<std::string>(5678);\\n    for(int i=1; i<5; i++){\\n        const char* desc = holmes->get().c_str();\\n        printf(\"Episode %d in which Sherlock %s\\\\n\", i, desc);\\n        sleep(1);\\n    }\\n    delete holmes;\\n    return 0;\\n}'\u001b[0m\u001b[0;34m)\u001b[0m\u001b[0;34m\u001b[0m\u001b[0m\n\u001b[0m",
      "\u001b[0;32m/usr/local/lib/python2.7/dist-packages/IPython/core/interactiveshell.pyc\u001b[0m in \u001b[0;36mrun_cell_magic\u001b[0;34m(self, magic_name, line, cell)\u001b[0m\n\u001b[1;32m   2113\u001b[0m             \u001b[0mmagic_arg_s\u001b[0m \u001b[0;34m=\u001b[0m \u001b[0mself\u001b[0m\u001b[0;34m.\u001b[0m\u001b[0mvar_expand\u001b[0m\u001b[0;34m(\u001b[0m\u001b[0mline\u001b[0m\u001b[0;34m,\u001b[0m \u001b[0mstack_depth\u001b[0m\u001b[0;34m)\u001b[0m\u001b[0;34m\u001b[0m\u001b[0m\n\u001b[1;32m   2114\u001b[0m             \u001b[0;32mwith\u001b[0m \u001b[0mself\u001b[0m\u001b[0;34m.\u001b[0m\u001b[0mbuiltin_trap\u001b[0m\u001b[0;34m:\u001b[0m\u001b[0;34m\u001b[0m\u001b[0m\n\u001b[0;32m-> 2115\u001b[0;31m                 \u001b[0mresult\u001b[0m \u001b[0;34m=\u001b[0m \u001b[0mfn\u001b[0m\u001b[0;34m(\u001b[0m\u001b[0mmagic_arg_s\u001b[0m\u001b[0;34m,\u001b[0m \u001b[0mcell\u001b[0m\u001b[0;34m)\u001b[0m\u001b[0;34m\u001b[0m\u001b[0m\n\u001b[0m\u001b[1;32m   2116\u001b[0m             \u001b[0;32mreturn\u001b[0m \u001b[0mresult\u001b[0m\u001b[0;34m\u001b[0m\u001b[0m\n\u001b[1;32m   2117\u001b[0m \u001b[0;34m\u001b[0m\u001b[0m\n",
      "\u001b[0;32m<decorator-gen-124>\u001b[0m in \u001b[0;36mruncpp\u001b[0;34m(self, line, cell)\u001b[0m\n",
      "\u001b[0;32m/usr/local/lib/python2.7/dist-packages/IPython/core/magic.pyc\u001b[0m in \u001b[0;36m<lambda>\u001b[0;34m(f, *a, **k)\u001b[0m\n\u001b[1;32m    186\u001b[0m     \u001b[0;31m# but it's overkill for just that one bit of state.\u001b[0m\u001b[0;34m\u001b[0m\u001b[0;34m\u001b[0m\u001b[0m\n\u001b[1;32m    187\u001b[0m     \u001b[0;32mdef\u001b[0m \u001b[0mmagic_deco\u001b[0m\u001b[0;34m(\u001b[0m\u001b[0marg\u001b[0m\u001b[0;34m)\u001b[0m\u001b[0;34m:\u001b[0m\u001b[0;34m\u001b[0m\u001b[0m\n\u001b[0;32m--> 188\u001b[0;31m         \u001b[0mcall\u001b[0m \u001b[0;34m=\u001b[0m \u001b[0;32mlambda\u001b[0m \u001b[0mf\u001b[0m\u001b[0;34m,\u001b[0m \u001b[0;34m*\u001b[0m\u001b[0ma\u001b[0m\u001b[0;34m,\u001b[0m \u001b[0;34m**\u001b[0m\u001b[0mk\u001b[0m\u001b[0;34m:\u001b[0m \u001b[0mf\u001b[0m\u001b[0;34m(\u001b[0m\u001b[0;34m*\u001b[0m\u001b[0ma\u001b[0m\u001b[0;34m,\u001b[0m \u001b[0;34m**\u001b[0m\u001b[0mk\u001b[0m\u001b[0;34m)\u001b[0m\u001b[0;34m\u001b[0m\u001b[0m\n\u001b[0m\u001b[1;32m    189\u001b[0m \u001b[0;34m\u001b[0m\u001b[0m\n\u001b[1;32m    190\u001b[0m         \u001b[0;32mif\u001b[0m \u001b[0mcallable\u001b[0m\u001b[0;34m(\u001b[0m\u001b[0marg\u001b[0m\u001b[0;34m)\u001b[0m\u001b[0;34m:\u001b[0m\u001b[0;34m\u001b[0m\u001b[0m\n",
      "\u001b[0;32m/home/ahagen/code/cppm/cppmagic.pyc\u001b[0m in \u001b[0;36mruncpp\u001b[0;34m(self, line, cell)\u001b[0m\n\u001b[1;32m     45\u001b[0m         \u001b[0mself\u001b[0m\u001b[0;34m.\u001b[0m\u001b[0mcpp\u001b[0m\u001b[0;34m(\u001b[0m\u001b[0mline\u001b[0m\u001b[0;34m,\u001b[0m \u001b[0mcell\u001b[0m\u001b[0;34m)\u001b[0m\u001b[0;34m\u001b[0m\u001b[0m\n\u001b[1;32m     46\u001b[0m         \u001b[0mself\u001b[0m\u001b[0;34m.\u001b[0m\u001b[0mcompile\u001b[0m\u001b[0;34m(\u001b[0m\u001b[0;34m)\u001b[0m\u001b[0;34m\u001b[0m\u001b[0m\n\u001b[0;32m---> 47\u001b[0;31m         \u001b[0mself\u001b[0m\u001b[0;34m.\u001b[0m\u001b[0mrun\u001b[0m\u001b[0;34m(\u001b[0m\u001b[0marr\u001b[0m\u001b[0;34m[\u001b[0m\u001b[0;36m0\u001b[0m\u001b[0;34m]\u001b[0m\u001b[0;34m,\u001b[0m \u001b[0marr\u001b[0m\u001b[0;34m[\u001b[0m\u001b[0;36m1\u001b[0m\u001b[0;34m:\u001b[0m\u001b[0;34m]\u001b[0m\u001b[0;34m)\u001b[0m\u001b[0;34m\u001b[0m\u001b[0m\n\u001b[0m\u001b[1;32m     48\u001b[0m \u001b[0;34m\u001b[0m\u001b[0m\n\u001b[1;32m     49\u001b[0m     \u001b[0;34m@\u001b[0m\u001b[0mcell_magic\u001b[0m\u001b[0;34m\u001b[0m\u001b[0m\n",
      "\u001b[0;32m/home/ahagen/code/cppm/cppmagic.pyc\u001b[0m in \u001b[0;36mrun\u001b[0;34m(self, binary, args)\u001b[0m\n\u001b[1;32m     87\u001b[0m         \u001b[0;32mif\u001b[0m \u001b[0mlen\u001b[0m\u001b[0;34m(\u001b[0m\u001b[0merr\u001b[0m\u001b[0;34m)\u001b[0m \u001b[0;34m>\u001b[0m \u001b[0;36m0\u001b[0m\u001b[0;34m:\u001b[0m\u001b[0;34m\u001b[0m\u001b[0m\n\u001b[1;32m     88\u001b[0m             \u001b[0;32mprint\u001b[0m \u001b[0;34m\"output: \"\u001b[0m \u001b[0;34m+\u001b[0m \u001b[0mout\u001b[0m\u001b[0;34m\u001b[0m\u001b[0m\n\u001b[0;32m---> 89\u001b[0;31m             \u001b[0;32mraise\u001b[0m \u001b[0mRuntimeError\u001b[0m\u001b[0;34m(\u001b[0m\u001b[0merr\u001b[0m\u001b[0;34m)\u001b[0m\u001b[0;34m\u001b[0m\u001b[0m\n\u001b[0m\u001b[1;32m     90\u001b[0m         \u001b[0;32mprint\u001b[0m \u001b[0mout\u001b[0m\u001b[0;34m\u001b[0m\u001b[0m\n\u001b[1;32m     91\u001b[0m         \u001b[0;32mreturn\u001b[0m \u001b[0mp\u001b[0m\u001b[0;34m\u001b[0m\u001b[0m\n",
      "\u001b[0;31mRuntimeError\u001b[0m: Segmentation fault (core dumped)\n"
     ]
    }
   ],
   "source": [
    "%%runcpp shm_client\n",
    "#include \"../ah_shm.h\"\n",
    "#include <string>\n",
    "\n",
    "int main(void){\n",
    "    shm_client<std::string> *holmes = new shm_client<std::string>(5678);\n",
    "    for(int i=1; i<5; i++){\n",
    "        const char* desc = holmes->get().c_str();\n",
    "        printf(\"Episode %d in which Sherlock %s\\n\", i, desc);\n",
    "        sleep(1);\n",
    "    }\n",
    "    delete holmes;\n",
    "    return 0;\n",
    "}"
   ]
  },
  {
   "cell_type": "markdown",
   "metadata": {
    "deletable": true,
    "editable": true
   },
   "source": [
    "Now, we just have to stop the server to make sure we're not leaving too many things open."
   ]
  },
  {
   "cell_type": "code",
   "execution_count": null,
   "metadata": {
    "collapsed": false,
    "deletable": true,
    "editable": true
   },
   "outputs": [],
   "source": [
    "%killall"
   ]
  },
  {
   "cell_type": "markdown",
   "metadata": {
    "deletable": true,
    "editable": true
   },
   "source": [
    "Just a note:  I'm still working on the cleanup of this.  To check that I've removed all of the attached shared memory, you can use the bash line"
   ]
  },
  {
   "cell_type": "code",
   "execution_count": 13,
   "metadata": {
    "collapsed": false,
    "deletable": true,
    "editable": true
   },
   "outputs": [
    {
     "name": "stdout",
     "output_type": "stream",
     "text": [
      "\r\n",
      "------ Message Queues --------\r\n",
      "key        msqid      owner      perms      used-bytes   messages    \r\n",
      "\r\n",
      "------ Shared Memory Segments --------\r\n",
      "key        shmid      owner      perms      bytes      nattch     status      \r\n",
      "0x00000000 425984     ahagen     600        524288     2          dest         \r\n",
      "0x00000000 1179649    ahagen     600        524288     2          dest         \r\n",
      "0x00000000 917506     ahagen     600        524288     2          dest         \r\n",
      "0x00000000 42270723   ahagen     600        2097152    2          dest         \r\n",
      "0x00000000 753668     ahagen     600        1048576    2          dest         \r\n",
      "0x00000000 851973     ahagen     600        524288     2          dest         \r\n",
      "0x00000000 1572870    ahagen     600        524288     2          dest         \r\n",
      "0x00000000 1474567    ahagen     600        524288     2          dest         \r\n",
      "0x00000000 1343496    ahagen     600        524288     2          dest         \r\n",
      "0x00000000 42598409   ahagen     600        524288     2          dest         \r\n",
      "0x00000000 1605642    ahagen     600        134217728  2          dest         \r\n",
      "0x00000000 1802251    ahagen     600        524288     2          dest         \r\n",
      "0x00000000 42696716   ahagen     600        393216     2          dest         \r\n",
      "0x00000000 42729485   ahagen     600        524288     2          dest         \r\n",
      "0x00000000 42827790   ahagen     600        524288     2          dest         \r\n",
      "0x0000162e 43122703   ahagen     666        32         0                       \r\n",
      "0x00000000 2424849    ahagen     600        524288     2          dest         \r\n",
      "0x00000000 2457618    ahagen     600        393216     2          dest         \r\n",
      "0x00000000 39813143   ahagen     600        67108864   2          dest         \r\n",
      "\r\n",
      "------ Semaphore Arrays --------\r\n",
      "key        semid      owner      perms      nsems     \r\n",
      "\r\n"
     ]
    }
   ],
   "source": [
    "!ipcs"
   ]
  },
  {
   "cell_type": "markdown",
   "metadata": {
    "deletable": true,
    "editable": true
   },
   "source": [
    "and to remove it, find the ``KEY`` corresponding to it and use ``ipcrm``.  Note that the KEY is usually the hexadecimal representation of the ``key`` you used in ``c++``, so you can just use that:"
   ]
  },
  {
   "cell_type": "code",
   "execution_count": 15,
   "metadata": {
    "collapsed": false,
    "deletable": true,
    "editable": true
   },
   "outputs": [],
   "source": [
    "!ipcrm -M 5678"
   ]
  },
  {
   "cell_type": "code",
   "execution_count": null,
   "metadata": {
    "collapsed": true
   },
   "outputs": [],
   "source": []
  }
 ],
 "metadata": {
  "hide_input": false,
  "kernelspec": {
   "display_name": "Python 2",
   "language": "python",
   "name": "python2"
  },
  "language_info": {
   "codemirror_mode": {
    "name": "ipython",
    "version": 2
   },
   "file_extension": ".py",
   "mimetype": "text/x-python",
   "name": "python",
   "nbconvert_exporter": "python",
   "pygments_lexer": "ipython2",
   "version": "2.7.12"
  },
  "latex_envs": {
   "LaTeX_envs_menu_present": true,
   "autocomplete": true,
   "bibliofile": "biblio.bib",
   "cite_by": "apalike",
   "current_citInitial": 1,
   "eqLabelWithNumbers": true,
   "eqNumInitial": 1,
   "hotkeys": {
    "equation": "Ctrl-E",
    "itemize": "Ctrl-I"
   },
   "labels_anchors": false,
   "latex_user_defs": false,
   "report_style_numbering": false,
   "user_envs_cfg": false
  }
 },
 "nbformat": 4,
 "nbformat_minor": 2
}
