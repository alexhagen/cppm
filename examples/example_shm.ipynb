{
 "cells": [
  {
   "cell_type": "markdown",
   "metadata": {
    "deletable": true,
    "editable": true
   },
   "source": [
    "## shm - Shared Memory\n",
    "\n",
    "I created this shared memory interface to pass variables amongst processes in linux for a detector firmware I was writing.  It uses the ``shmget`` and ``shmat`` C interface under the hood, but that's all so non-semantic when you code it that you shouldn't have to worry about it.\n",
    "\n",
    "### Example\n",
    "\n",
    "My fiance is watching the tv show Sherlock Holmes behind me, so this example is themed on that show.\n",
    "\n",
    "First, we have to create some server for the shared memory.  This server has to be open for the client process to read it, so we'll just keep it open indefinitely.  We also have to define a unique identifier for the shared memory server."
   ]
  },
  {
   "cell_type": "code",
   "execution_count": 1,
   "metadata": {
    "collapsed": false,
    "deletable": true,
    "editable": true,
    "hide_input": true
   },
   "outputs": [],
   "source": [
    "from cppm import cppmagic"
   ]
  },
  {
   "cell_type": "code",
   "execution_count": 2,
   "metadata": {
    "collapsed": false,
    "deletable": true,
    "editable": true
   },
   "outputs": [],
   "source": [
    "%%runcppnb shm_server\n",
    "#include \"../ah_shm.h\"\n",
    "#include \"../ah_signal.h\"\n",
    "#include <string>\n",
    "\n",
    "int run = 1;\n",
    "\n",
    "void cleanup(int signum){\n",
    "    run = 0;\n",
    "}\n",
    "\n",
    "int main(void){\n",
    "    // create the shm server\n",
    "    shm_server<std::string> *sherlock = new shm_server<std::string>(5678);\n",
    "    // latch a cleanup function onto the SIGTERM signal\n",
    "    ah_signal(SIGINT, &cleanup);\n",
    "\n",
    "    while (run){\n",
    "        sherlock->set(\"is a good guy!\");\n",
    "        sleep(1);\n",
    "        sherlock->set(\"is a bad guy!\");\n",
    "        sleep(1);\n",
    "        sherlock->set(\"is dead!\");\n",
    "        sleep(1);\n",
    "        sherlock->set(\"is now alive again!\");\n",
    "        sleep(1);\n",
    "    }\n",
    "    \n",
    "    delete sherlock;\n",
    "    return 0;\n",
    "}"
   ]
  },
  {
   "cell_type": "markdown",
   "metadata": {
    "deletable": true,
    "editable": true
   },
   "source": [
    "Now, to connect to the memory.  We have to attach using the same key, which is a little bit of a paint, but if you use macros effectively, it'll just be like pointing at a file.  This client will be way faster than using files though, for time intensive processes, use these ``shm``s."
   ]
  },
  {
   "cell_type": "code",
   "execution_count": 3,
   "metadata": {
    "collapsed": false,
    "deletable": true,
    "editable": true
   },
   "outputs": [
    {
     "name": "stdout",
     "output_type": "stream",
     "text": [
      "Episode 1 in which Sherlock is now alive again!\n",
      "Episode 2 in which Sherlock is a good guy!\n",
      "Episode 3 in which Sherlock is a bad guy!\n",
      "Episode 4 in which Sherlock is dead!\n",
      "\n"
     ]
    }
   ],
   "source": [
    "%%runcpp shm_client\n",
    "#include \"../ah_shm.h\"\n",
    "#include <string>\n",
    "\n",
    "int main(void){\n",
    "    shm_client<std::string> *holmes = new shm_client<std::string>(5678);\n",
    "    for(int i=1; i<5; i++){\n",
    "        printf(\"Episode %d in which Sherlock %s\\n\", i, holmes->get().c_str());\n",
    "        sleep(1);\n",
    "    }\n",
    "    delete holmes;\n",
    "    return 0;\n",
    "}"
   ]
  },
  {
   "cell_type": "markdown",
   "metadata": {
    "deletable": true,
    "editable": true
   },
   "source": [
    "Now, we just have to stop the server to make sure we're not leaving too many things open."
   ]
  },
  {
   "cell_type": "code",
   "execution_count": 4,
   "metadata": {
    "collapsed": false,
    "deletable": true,
    "editable": true
   },
   "outputs": [],
   "source": [
    "%killall"
   ]
  },
  {
   "cell_type": "markdown",
   "metadata": {
    "deletable": true,
    "editable": true
   },
   "source": [
    "Just a note:  I'm still working on the cleanup of this.  To check that I've removed all of the attached shared memory, you can use the bash line\n",
    "\n",
    "```bash\n",
    "ipcs\n",
    "```\n",
    "\n",
    "and to remove it, find the ``KEY`` corresponding to it and use\n",
    "```bash\n",
    "ipcrm -M <KEY>\n",
    "```"
   ]
  },
  {
   "cell_type": "code",
   "execution_count": 7,
   "metadata": {
    "collapsed": false,
    "deletable": true,
    "editable": true
   },
   "outputs": [
    {
     "name": "stdout",
     "output_type": "stream",
     "text": [
      "IPC status from <running system> as of Tue May 23 22:24:49 EDT 2017\r\n",
      "T     ID     KEY        MODE       OWNER    GROUP\r\n",
      "Message Queues:\r\n",
      "\r\n",
      "T     ID     KEY        MODE       OWNER    GROUP\r\n",
      "Shared Memory:\r\n",
      "m  65536 0x52010016 --rw-------     root    wheel\r\n",
      "\r\n",
      "T     ID     KEY        MODE       OWNER    GROUP\r\n",
      "Semaphores:\r\n",
      "\r\n"
     ]
    }
   ],
   "source": [
    "!ipcs"
   ]
  },
  {
   "cell_type": "code",
   "execution_count": 6,
   "metadata": {
    "collapsed": false,
    "deletable": true,
    "editable": true
   },
   "outputs": [],
   "source": [
    "!ipcrm -M 0x0000162e"
   ]
  },
  {
   "cell_type": "code",
   "execution_count": null,
   "metadata": {
    "collapsed": true,
    "deletable": true,
    "editable": true
   },
   "outputs": [],
   "source": []
  }
 ],
 "metadata": {
  "hide_input": false,
  "kernelspec": {
   "display_name": "Python 2",
   "language": "python",
   "name": "python2"
  },
  "language_info": {
   "codemirror_mode": {
    "name": "ipython",
    "version": 2
   },
   "file_extension": ".py",
   "mimetype": "text/x-python",
   "name": "python",
   "nbconvert_exporter": "python",
   "pygments_lexer": "ipython2",
   "version": "2.7.13"
  },
  "latex_envs": {
   "LaTeX_envs_menu_present": true,
   "autocomplete": true,
   "bibliofile": "biblio.bib",
   "cite_by": "apalike",
   "current_citInitial": 1,
   "eqLabelWithNumbers": true,
   "eqNumInitial": 1,
   "hotkeys": {
    "equation": "Ctrl-E",
    "itemize": "Ctrl-I"
   },
   "labels_anchors": false,
   "latex_user_defs": false,
   "report_style_numbering": false,
   "user_envs_cfg": false
  }
 },
 "nbformat": 4,
 "nbformat_minor": 2
}
