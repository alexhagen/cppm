{
 "cells": [
  {
   "cell_type": "markdown",
   "metadata": {
    "deletable": true,
    "editable": true
   },
   "source": [
    "### timer - Hardware timer classes\n",
    "\n",
    "In real time firmware, hardware timers are necessary and must be as fast as possible.  I've interfaced the ``c`` API for timers in a signal/slot oriented way in ``ah_timer`` as well as simply, in ``simple_timer``.  these use ``sigevents`` and ``itimerspec`` both to generate the timer.\n",
    "\n",
    "#### Example\n",
    "\n",
    "Below are two extremely simple examples on how to use my timers."
   ]
  },
  {
   "cell_type": "code",
   "execution_count": 1,
   "metadata": {
    "collapsed": false,
    "deletable": true,
    "editable": true,
    "hide_input": true
   },
   "outputs": [],
   "source": [
    "from cppm import cppmagic"
   ]
  },
  {
   "cell_type": "markdown",
   "metadata": {},
   "source": [
    "Both of these timers require the ``-lrt`` (library real time) option, so make sure you put that at the end of your compiler."
   ]
  },
  {
   "cell_type": "code",
   "execution_count": 23,
   "metadata": {
    "collapsed": false,
    "deletable": true,
    "editable": true
   },
   "outputs": [],
   "source": [
    "%set_compiler g++ --std=c++11 -lrt"
   ]
  },
  {
   "cell_type": "markdown",
   "metadata": {},
   "source": [
    "The first example is my ``simple_timer``.  This is good for just doing one single task, and timing it.  It's pretty accurate (to within $1\\mathrm{ms}$ in my experience), but has a couple problems:\n",
    "\n",
    "- it's currently not working on OSX\n",
    "- you can only define one of them\n",
    "- you can only use the ``SIGALRM`` signal (at least in my tests)\n",
    "\n",
    "I'll be working on these problems, but until then, you should probably use my ``ah_timer`` class, instead.  The example of that in below this one.\n",
    "\n",
    "But, this library is totally usable.  Basically we have to create a timer, a function for when the timer is caught, and connect it to a signal.  Pretty straightforward."
   ]
  },
  {
   "cell_type": "code",
   "execution_count": 24,
   "metadata": {
    "collapsed": false,
    "deletable": true,
    "editable": true
   },
   "outputs": [
    {
     "name": "stdout",
     "output_type": "stream",
     "text": [
      "Go!\n",
      ".\n",
      ".\n",
      ".\n",
      ".\n",
      ".\n",
      ".\n",
      "Usain Bolt finished 100 meters.\n",
      "Time was 1.500116\n",
      "\n"
     ]
    }
   ],
   "source": [
    "%%runcpp simple_timer_test\n",
    "#include <stdio.h>\n",
    "#include \"../simple_timer.h\"\n",
    "#include \"../ah_signal.h\"\n",
    "#include <unistd.h>\n",
    "\n",
    "bool cont = true;\n",
    "simple_timer* ub;\n",
    "\n",
    "void usain_bolt(int signum){\n",
    "    ub->stop();\n",
    "    printf(\"Usain Bolt finished 100 meters.\\n\");\n",
    "    cont = false;\n",
    "}\n",
    "\n",
    "int main(void){\n",
    "    ub = new simple_timer();\n",
    "    ah_signal(SIGALRM, &usain_bolt);\n",
    "    printf(\"Go!\\n\");\n",
    "    ub->start(1.5);\n",
    "    while(cont){\n",
    "        printf(\".\\n\");\n",
    "        usleep(2.5E5);\n",
    "    }\n",
    "    printf(\"Time was %f\\n\",ub->get_t());\n",
    "\n",
    "    return 0;\n",
    "}"
   ]
  },
  {
   "cell_type": "markdown",
   "metadata": {
    "deletable": true,
    "editable": true
   },
   "source": [
    "The ``ah_timer`` class is a bit more complicated.  The example below shows me creating a class which has two timers.  Each timer is then connected to a class method which stops the itmer and prints its result.  Then, they are started using a thread.  To use the thread, we have to add ``-lpthread`` to our compiler.\n",
    "\n",
    "So I start each timer and wait until it finishes, and then I can print out the results.  Note that ``usain_bolt`` is connected to an interval timer, which means he will continue running until the program quits or the destructor is called.  ``betty_white`` only runs once, because I used ``->set()``.  There's also the ability to add a different time to ``on_deck``, which I may update this example with in the future."
   ]
  },
  {
   "cell_type": "code",
   "execution_count": 47,
   "metadata": {
    "collapsed": true
   },
   "outputs": [],
   "source": [
    "%set_compiler g++ --std=c++11 -lrt -lpthread"
   ]
  },
  {
   "cell_type": "code",
   "execution_count": 49,
   "metadata": {
    "collapsed": false,
    "deletable": true,
    "editable": true
   },
   "outputs": [
    {
     "name": "stdout",
     "output_type": "stream",
     "text": [
      "Go!\n",
      ".\n",
      ".\n",
      "Usain Bolt finished 100  meters in 1.500175 seconds.\n",
      ".\n",
      ".\n",
      "Usain Bolt finished 100 more meters in 1.499955 seconds.\n",
      ".\n",
      ".\n",
      "Usain Bolt finished 100 more meters in 1.499977 seconds.\n",
      ".\n",
      "Betty White finished 100  meters in 5.000081 seconds.\n",
      ".\n",
      "Usain Bolt finished 100 more meters in 1.499929 seconds.\n",
      ".\n",
      "\n"
     ]
    }
   ],
   "source": [
    "%%runcpp timer_test\n",
    "#include \"../timer.h\"\n",
    "#include \"../common/sigslot.h\"\n",
    "#include <stdio.h>\n",
    "#include <thread>\n",
    "#include <string>\n",
    "#include <unistd.h>\n",
    "\n",
    "class timers : public sigslot::has_slots<>{\n",
    "public:\n",
    "\ttimer *ub,*bw;\n",
    "    int ubcount = 0;\n",
    "\ttimers();\n",
    "\tvoid usain_bolt(void);\n",
    "\tvoid betty_white(void);\n",
    "\tvoid print_ub(void);\n",
    "\tvoid print_bw(void);\n",
    "};\n",
    "\n",
    "timers::timers(void){\n",
    "\tstd::thread ub(&timers::usain_bolt, this);\n",
    "\tstd::thread bw(&timers::betty_white, this);\n",
    "\n",
    "\tub.join();\n",
    "\tbw.join();\n",
    "}\n",
    "\n",
    "void timers::usain_bolt(void){\n",
    "\tub = new timer();\n",
    "\tub->sig->connect(this, &timers::print_ub);\n",
    "\tub->set_int(1.50);\n",
    "\tub->start();\n",
    "}\n",
    "void timers::betty_white(void){\n",
    "\tbw = new timer();\n",
    "\tbw->sig->connect(this, &timers::print_bw);\n",
    "\tbw->set(5.00);\n",
    "\tbw->start();\n",
    "}\n",
    "\n",
    "void timers::print_ub(void){\n",
    "    ub->finish();\n",
    "    ubcount++;\n",
    "    std::string howmany;\n",
    "    if (ubcount > 1) {\n",
    "        howmany = \"more\";\n",
    "    } else {\n",
    "        howmany = \"\";\n",
    "    }\n",
    "\tprintf(\"Usain Bolt finished 100 %s meters in %f seconds.\\n\", howmany.c_str(), ub->realtime);\n",
    "}\n",
    "void timers::print_bw(void){\n",
    "    bw->finish();\n",
    "\tprintf(\"Betty White finished 100 meters in %f seconds.\\n\", bw->realtime);\n",
    "}\n",
    "\n",
    "int main(void){\n",
    "    timers *t = new timers();\n",
    "    printf(\"Go!\\n\");\n",
    "    int i = 0;\n",
    "    while (i < 9){\n",
    "        printf(\".\\n\");\n",
    "        usleep(1E6);\n",
    "        i++;\n",
    "    }\n",
    "    return 0;\n",
    "}"
   ]
  },
  {
   "cell_type": "code",
   "execution_count": null,
   "metadata": {
    "collapsed": true
   },
   "outputs": [],
   "source": []
  }
 ],
 "metadata": {
  "hide_input": false,
  "kernelspec": {
   "display_name": "Python 2",
   "language": "python",
   "name": "python2"
  },
  "language_info": {
   "codemirror_mode": {
    "name": "ipython",
    "version": 2
   },
   "file_extension": ".py",
   "mimetype": "text/x-python",
   "name": "python",
   "nbconvert_exporter": "python",
   "pygments_lexer": "ipython2",
   "version": "2.7.12"
  },
  "latex_envs": {
   "LaTeX_envs_menu_present": true,
   "autocomplete": true,
   "bibliofile": "biblio.bib",
   "cite_by": "apalike",
   "current_citInitial": 1,
   "eqLabelWithNumbers": true,
   "eqNumInitial": 1,
   "hotkeys": {
    "equation": "Ctrl-E",
    "itemize": "Ctrl-I"
   },
   "labels_anchors": false,
   "latex_user_defs": false,
   "report_style_numbering": false,
   "user_envs_cfg": false
  }
 },
 "nbformat": 4,
 "nbformat_minor": 2
}
