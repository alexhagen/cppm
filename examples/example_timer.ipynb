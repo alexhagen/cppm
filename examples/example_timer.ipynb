{
 "cells": [
  {
   "cell_type": "markdown",
   "metadata": {
    "deletable": true,
    "editable": true
   },
   "source": [
    "### timer - Hardware timer classes\n",
    "\n",
    "In real time firmware, hardware timers are necessary and must be as fast as possible.  I've interfaced the ``c`` API for timers in a signal/slot oriented way in ``ah_timer`` as well as simply, in ``simple_timer``.  these use ``sigevents`` and ``itimerspec`` both to generate the timer.\n",
    "\n",
    "#### Example\n",
    "\n",
    "Below are two extremely simple examples on how to use my timers."
   ]
  },
  {
   "cell_type": "code",
   "execution_count": 6,
   "metadata": {
    "collapsed": false,
    "deletable": true,
    "editable": true,
    "hide_input": true
   },
   "outputs": [],
   "source": [
    "from cppm import cppmagic"
   ]
  },
  {
   "cell_type": "code",
   "execution_count": 10,
   "metadata": {
    "collapsed": false
   },
   "outputs": [],
   "source": [
    "%set_compiler g++ --std=c++11 -Wall -lrt"
   ]
  },
  {
   "cell_type": "code",
   "execution_count": 12,
   "metadata": {
    "collapsed": false,
    "deletable": true,
    "editable": true
   },
   "outputs": [
    {
     "ename": "CompilationError",
     "evalue": "In file included from simple_timer_test.cpp:3:\n./../simple_timer.h:27:2: error: unknown type name 'timer_t'; did you mean 'time_t'?\n        timer_t timerID;\n        ^~~~~~~\n        time_t\n/usr/include/sys/_types/_time_t.h:30:26: note: 'time_t' declared here\ntypedef __darwin_time_t         time_t; \n                                ^\nIn file included from simple_timer_test.cpp:3:\n./../simple_timer.h:30:23: error: field has incomplete type 'struct itimerspec'\n    struct itimerspec its;\n                      ^\n./../simple_timer.h:30:12: note: forward declaration of 'itimerspec'\n    struct itimerspec its;\n           ^\n./../simple_timer.h:82:5: error: use of undeclared identifier 'timer_create'; did you mean 'kmod_create'?\n    timer_create(CLOCK_REALTIME, &te, &timerID);\n    ^~~~~~~~~~~~\n    kmod_create\n/usr/include/mach/host_priv.h:173:15: note: 'kmod_create' declared here\nkern_return_t kmod_create\n              ^\nIn file included from simple_timer_test.cpp:3:\n./../simple_timer.h:82:34: error: cannot initialize a parameter of type 'vm_address_t' (aka 'unsigned long') with an rvalue of type 'struct sigevent *'\n    timer_create(CLOCK_REALTIME, &te, &timerID);\n                                 ^~~\n/usr/include/mach/host_priv.h:176:15: note: passing argument to parameter 'info' here\n        vm_address_t info,\n                     ^\n4 errors generated.\n",
     "output_type": "error",
     "traceback": [
      "\u001b[0;31m---------------------------------------------------------------------------\u001b[0m",
      "\u001b[0;31mCompilationError\u001b[0m                          Traceback (most recent call last)",
      "\u001b[0;32m<ipython-input-12-389ad716a202>\u001b[0m in \u001b[0;36m<module>\u001b[0;34m()\u001b[0m\n\u001b[0;32m----> 1\u001b[0;31m \u001b[0mget_ipython\u001b[0m\u001b[0;34m(\u001b[0m\u001b[0;34m)\u001b[0m\u001b[0;34m.\u001b[0m\u001b[0mrun_cell_magic\u001b[0m\u001b[0;34m(\u001b[0m\u001b[0;34mu'runcpp'\u001b[0m\u001b[0;34m,\u001b[0m \u001b[0;34mu'simple_timer_test'\u001b[0m\u001b[0;34m,\u001b[0m \u001b[0;34mu'#include <stdio.h>\\n#include \"../common/mach_gettime.h\"\\n#include \"../simple_timer.h\"\\n#include \"../ah_signal.h\"\\n\\nbool bw_cont = true;\\nbool ub_cont = true;\\nsimple_timer* ub, *bw;\\n\\nvoid usain_bolt(int signum){\\n    ub->stop();\\n    printf(\"Usain Bolt finished 100 meters.\\\\n\");\\n    ub_cont = false;\\n}\\n\\nvoid betty_white(int signum){\\n    bw->stop();\\n    printf(\"Betty White finished 100 meters.\\\\n\");\\n    bw_cont = false;\\n}\\n\\nint main(void){\\n    ub = new simple_timer();\\n    ah_signal(SIGUSR1, &usain_bolt);\\n    bw = new simple_timer();\\n    ah_signal(SIGUSR2, &betty_white);\\n    ub->start(1.5);\\n    bw->start(5.0);\\n    while(bw_cont || ub_cont){\\n        printf(\".\");\\n        sleep(1);\\n    }\\n    printf(\"Time was %f\\\\n\",ub->get_t());\\n    printf(\"Time was %f\\\\n\",bw->get_t());\\n\\n    return 0;\\n}'\u001b[0m\u001b[0;34m)\u001b[0m\u001b[0;34m\u001b[0m\u001b[0m\n\u001b[0m",
      "\u001b[0;32m/usr/local/lib/python2.7/site-packages/IPython/core/interactiveshell.pyc\u001b[0m in \u001b[0;36mrun_cell_magic\u001b[0;34m(self, magic_name, line, cell)\u001b[0m\n\u001b[1;32m   2113\u001b[0m             \u001b[0mmagic_arg_s\u001b[0m \u001b[0;34m=\u001b[0m \u001b[0mself\u001b[0m\u001b[0;34m.\u001b[0m\u001b[0mvar_expand\u001b[0m\u001b[0;34m(\u001b[0m\u001b[0mline\u001b[0m\u001b[0;34m,\u001b[0m \u001b[0mstack_depth\u001b[0m\u001b[0;34m)\u001b[0m\u001b[0;34m\u001b[0m\u001b[0m\n\u001b[1;32m   2114\u001b[0m             \u001b[0;32mwith\u001b[0m \u001b[0mself\u001b[0m\u001b[0;34m.\u001b[0m\u001b[0mbuiltin_trap\u001b[0m\u001b[0;34m:\u001b[0m\u001b[0;34m\u001b[0m\u001b[0m\n\u001b[0;32m-> 2115\u001b[0;31m                 \u001b[0mresult\u001b[0m \u001b[0;34m=\u001b[0m \u001b[0mfn\u001b[0m\u001b[0;34m(\u001b[0m\u001b[0mmagic_arg_s\u001b[0m\u001b[0;34m,\u001b[0m \u001b[0mcell\u001b[0m\u001b[0;34m)\u001b[0m\u001b[0;34m\u001b[0m\u001b[0m\n\u001b[0m\u001b[1;32m   2116\u001b[0m             \u001b[0;32mreturn\u001b[0m \u001b[0mresult\u001b[0m\u001b[0;34m\u001b[0m\u001b[0m\n\u001b[1;32m   2117\u001b[0m \u001b[0;34m\u001b[0m\u001b[0m\n",
      "\u001b[0;32m<decorator-gen-124>\u001b[0m in \u001b[0;36mruncpp\u001b[0;34m(self, line, cell)\u001b[0m\n",
      "\u001b[0;32m/usr/local/lib/python2.7/site-packages/IPython/core/magic.pyc\u001b[0m in \u001b[0;36m<lambda>\u001b[0;34m(f, *a, **k)\u001b[0m\n\u001b[1;32m    186\u001b[0m     \u001b[0;31m# but it's overkill for just that one bit of state.\u001b[0m\u001b[0;34m\u001b[0m\u001b[0;34m\u001b[0m\u001b[0m\n\u001b[1;32m    187\u001b[0m     \u001b[0;32mdef\u001b[0m \u001b[0mmagic_deco\u001b[0m\u001b[0;34m(\u001b[0m\u001b[0marg\u001b[0m\u001b[0;34m)\u001b[0m\u001b[0;34m:\u001b[0m\u001b[0;34m\u001b[0m\u001b[0m\n\u001b[0;32m--> 188\u001b[0;31m         \u001b[0mcall\u001b[0m \u001b[0;34m=\u001b[0m \u001b[0;32mlambda\u001b[0m \u001b[0mf\u001b[0m\u001b[0;34m,\u001b[0m \u001b[0;34m*\u001b[0m\u001b[0ma\u001b[0m\u001b[0;34m,\u001b[0m \u001b[0;34m**\u001b[0m\u001b[0mk\u001b[0m\u001b[0;34m:\u001b[0m \u001b[0mf\u001b[0m\u001b[0;34m(\u001b[0m\u001b[0;34m*\u001b[0m\u001b[0ma\u001b[0m\u001b[0;34m,\u001b[0m \u001b[0;34m**\u001b[0m\u001b[0mk\u001b[0m\u001b[0;34m)\u001b[0m\u001b[0;34m\u001b[0m\u001b[0m\n\u001b[0m\u001b[1;32m    189\u001b[0m \u001b[0;34m\u001b[0m\u001b[0m\n\u001b[1;32m    190\u001b[0m         \u001b[0;32mif\u001b[0m \u001b[0mcallable\u001b[0m\u001b[0;34m(\u001b[0m\u001b[0marg\u001b[0m\u001b[0;34m)\u001b[0m\u001b[0;34m:\u001b[0m\u001b[0;34m\u001b[0m\u001b[0m\n",
      "\u001b[0;32m/Users/ahagen/code/cppm/cppmagic.pyc\u001b[0m in \u001b[0;36mruncpp\u001b[0;34m(self, line, cell)\u001b[0m\n\u001b[1;32m     37\u001b[0m         \u001b[0marr\u001b[0m \u001b[0;34m=\u001b[0m \u001b[0mline\u001b[0m\u001b[0;34m.\u001b[0m\u001b[0msplit\u001b[0m\u001b[0;34m(\u001b[0m\u001b[0;34m)\u001b[0m\u001b[0;34m\u001b[0m\u001b[0m\n\u001b[1;32m     38\u001b[0m         \u001b[0mself\u001b[0m\u001b[0;34m.\u001b[0m\u001b[0mcpp\u001b[0m\u001b[0;34m(\u001b[0m\u001b[0mline\u001b[0m\u001b[0;34m,\u001b[0m \u001b[0mcell\u001b[0m\u001b[0;34m)\u001b[0m\u001b[0;34m\u001b[0m\u001b[0m\n\u001b[0;32m---> 39\u001b[0;31m         \u001b[0mself\u001b[0m\u001b[0;34m.\u001b[0m\u001b[0mcompile\u001b[0m\u001b[0;34m(\u001b[0m\u001b[0;34m)\u001b[0m\u001b[0;34m\u001b[0m\u001b[0m\n\u001b[0m\u001b[1;32m     40\u001b[0m         \u001b[0mself\u001b[0m\u001b[0;34m.\u001b[0m\u001b[0mrun\u001b[0m\u001b[0;34m(\u001b[0m\u001b[0marr\u001b[0m\u001b[0;34m[\u001b[0m\u001b[0;36m0\u001b[0m\u001b[0;34m]\u001b[0m\u001b[0;34m,\u001b[0m \u001b[0marr\u001b[0m\u001b[0;34m[\u001b[0m\u001b[0;36m1\u001b[0m\u001b[0;34m:\u001b[0m\u001b[0;34m]\u001b[0m\u001b[0;34m)\u001b[0m\u001b[0;34m\u001b[0m\u001b[0m\n\u001b[1;32m     41\u001b[0m \u001b[0;34m\u001b[0m\u001b[0m\n",
      "\u001b[0;32m/Users/ahagen/code/cppm/cppmagic.pyc\u001b[0m in \u001b[0;36mcompile\u001b[0;34m(self)\u001b[0m\n\u001b[1;32m     70\u001b[0m         \u001b[0;34m(\u001b[0m\u001b[0mout\u001b[0m\u001b[0;34m,\u001b[0m \u001b[0merr\u001b[0m\u001b[0;34m)\u001b[0m \u001b[0;34m=\u001b[0m \u001b[0mp\u001b[0m\u001b[0;34m.\u001b[0m\u001b[0mcommunicate\u001b[0m\u001b[0;34m(\u001b[0m\u001b[0;34m)\u001b[0m\u001b[0;34m\u001b[0m\u001b[0m\n\u001b[1;32m     71\u001b[0m         \u001b[0;32mif\u001b[0m \u001b[0mlen\u001b[0m\u001b[0;34m(\u001b[0m\u001b[0merr\u001b[0m\u001b[0;34m)\u001b[0m \u001b[0;34m>\u001b[0m \u001b[0;36m0\u001b[0m\u001b[0;34m:\u001b[0m\u001b[0;34m\u001b[0m\u001b[0m\n\u001b[0;32m---> 72\u001b[0;31m             \u001b[0;32mraise\u001b[0m \u001b[0mCompilationError\u001b[0m\u001b[0;34m(\u001b[0m\u001b[0merr\u001b[0m\u001b[0;34m)\u001b[0m\u001b[0;34m\u001b[0m\u001b[0m\n\u001b[0m\u001b[1;32m     73\u001b[0m \u001b[0;34m\u001b[0m\u001b[0m\n\u001b[1;32m     74\u001b[0m     \u001b[0;32mdef\u001b[0m \u001b[0mrun\u001b[0m\u001b[0;34m(\u001b[0m\u001b[0mself\u001b[0m\u001b[0;34m,\u001b[0m \u001b[0mbinary\u001b[0m\u001b[0;34m,\u001b[0m \u001b[0margs\u001b[0m\u001b[0;34m)\u001b[0m\u001b[0;34m:\u001b[0m\u001b[0;34m\u001b[0m\u001b[0m\n",
      "\u001b[0;31mCompilationError\u001b[0m: In file included from simple_timer_test.cpp:3:\n./../simple_timer.h:27:2: error: unknown type name 'timer_t'; did you mean 'time_t'?\n        timer_t timerID;\n        ^~~~~~~\n        time_t\n/usr/include/sys/_types/_time_t.h:30:26: note: 'time_t' declared here\ntypedef __darwin_time_t         time_t; \n                                ^\nIn file included from simple_timer_test.cpp:3:\n./../simple_timer.h:30:23: error: field has incomplete type 'struct itimerspec'\n    struct itimerspec its;\n                      ^\n./../simple_timer.h:30:12: note: forward declaration of 'itimerspec'\n    struct itimerspec its;\n           ^\n./../simple_timer.h:82:5: error: use of undeclared identifier 'timer_create'; did you mean 'kmod_create'?\n    timer_create(CLOCK_REALTIME, &te, &timerID);\n    ^~~~~~~~~~~~\n    kmod_create\n/usr/include/mach/host_priv.h:173:15: note: 'kmod_create' declared here\nkern_return_t kmod_create\n              ^\nIn file included from simple_timer_test.cpp:3:\n./../simple_timer.h:82:34: error: cannot initialize a parameter of type 'vm_address_t' (aka 'unsigned long') with an rvalue of type 'struct sigevent *'\n    timer_create(CLOCK_REALTIME, &te, &timerID);\n                                 ^~~\n/usr/include/mach/host_priv.h:176:15: note: passing argument to parameter 'info' here\n        vm_address_t info,\n                     ^\n4 errors generated.\n"
     ]
    }
   ],
   "source": [
    "%%runcpp simple_timer_test\n",
    "#include <stdio.h>\n",
    "#include \"../common/mach_gettime.h\"\n",
    "#include \"../simple_timer.h\"\n",
    "#include \"../ah_signal.h\"\n",
    "\n",
    "bool bw_cont = true;\n",
    "bool ub_cont = true;\n",
    "simple_timer* ub, *bw;\n",
    "\n",
    "void usain_bolt(int signum){\n",
    "    ub->stop();\n",
    "    printf(\"Usain Bolt finished 100 meters.\\n\");\n",
    "    ub_cont = false;\n",
    "}\n",
    "\n",
    "void betty_white(int signum){\n",
    "    bw->stop();\n",
    "    printf(\"Betty White finished 100 meters.\\n\");\n",
    "    bw_cont = false;\n",
    "}\n",
    "\n",
    "int main(void){\n",
    "    ub = new simple_timer();\n",
    "    ah_signal(SIGUSR1, &usain_bolt);\n",
    "    bw = new simple_timer();\n",
    "    ah_signal(SIGUSR2, &betty_white);\n",
    "    ub->start(1.5);\n",
    "    bw->start(5.0);\n",
    "    while(bw_cont || ub_cont){\n",
    "        printf(\".\");\n",
    "        sleep(1);\n",
    "    }\n",
    "    printf(\"Time was %f\\n\",ub->get_t());\n",
    "    printf(\"Time was %f\\n\",bw->get_t());\n",
    "\n",
    "    return 0;\n",
    "}"
   ]
  },
  {
   "cell_type": "markdown",
   "metadata": {
    "deletable": true,
    "editable": true
   },
   "source": [
    "Now, to connect to the memory.  We have to attach using the same key, which is a little bit of a paint, but if you use macros effectively, it'll just be like pointing at a file.  This client will be way faster than using files though, for time intensive processes, use these ``shm``s."
   ]
  },
  {
   "cell_type": "code",
   "execution_count": 3,
   "metadata": {
    "collapsed": false,
    "deletable": true,
    "editable": true
   },
   "outputs": [
    {
     "name": "stdout",
     "output_type": "stream",
     "text": [
      "Episode 1 in which Sherlock is dead!\n",
      "Episode 2 in which Sherlock is now alive again!\n",
      "Episode 3 in which Sherlock is a good guy!\n",
      "Episode 4 in which Sherlock is a bad guy!\n",
      "\n"
     ]
    }
   ],
   "source": [
    "%%runcpp shm_client\n",
    "#include \"../ah_shm.h\"\n",
    "#include <string>\n",
    "\n",
    "int main(void){\n",
    "    shm_client<std::string> *holmes = new shm_client<std::string>(5678);\n",
    "    for(int i=1; i<5; i++){\n",
    "        const char* desc = holmes->get().c_str();\n",
    "        printf(\"Episode %d in which Sherlock %s\\n\", i, desc);\n",
    "        sleep(1);\n",
    "    }\n",
    "    delete holmes;\n",
    "    return 0;\n",
    "}"
   ]
  },
  {
   "cell_type": "markdown",
   "metadata": {
    "deletable": true,
    "editable": true
   },
   "source": [
    "Now, we just have to stop the server to make sure we're not leaving too many things open."
   ]
  },
  {
   "cell_type": "code",
   "execution_count": 4,
   "metadata": {
    "collapsed": false,
    "deletable": true,
    "editable": true
   },
   "outputs": [],
   "source": [
    "%killall"
   ]
  },
  {
   "cell_type": "markdown",
   "metadata": {
    "deletable": true,
    "editable": true
   },
   "source": [
    "Just a note:  I'm still working on the cleanup of this.  To check that I've removed all of the attached shared memory, you can use the bash line"
   ]
  },
  {
   "cell_type": "code",
   "execution_count": 5,
   "metadata": {
    "collapsed": false,
    "deletable": true,
    "editable": true
   },
   "outputs": [
    {
     "name": "stdout",
     "output_type": "stream",
     "text": [
      "IPC status from <running system> as of Wed May 24 10:18:34 EDT 2017\r\n",
      "T     ID     KEY        MODE       OWNER    GROUP\r\n",
      "Message Queues:\r\n",
      "\r\n",
      "T     ID     KEY        MODE       OWNER    GROUP\r\n",
      "Shared Memory:\r\n",
      "m  65536 0x52020016 --rw-------     root    wheel\r\n",
      "m 196609 0x0000162e --rw-rw-rw-   ahagen    staff\r\n",
      "\r\n",
      "T     ID     KEY        MODE       OWNER    GROUP\r\n",
      "Semaphores:\r\n",
      "\r\n"
     ]
    }
   ],
   "source": [
    "!ipcs"
   ]
  },
  {
   "cell_type": "markdown",
   "metadata": {
    "deletable": true,
    "editable": true
   },
   "source": [
    "and to remove it, find the ``KEY`` corresponding to it and use ``ipcrm``.  Note that the KEY is usually the hexadecimal representation of the ``key`` you used in ``c++``, so you can just use that:"
   ]
  },
  {
   "cell_type": "code",
   "execution_count": 6,
   "metadata": {
    "collapsed": false,
    "deletable": true,
    "editable": true
   },
   "outputs": [],
   "source": [
    "!ipcrm -M 5678"
   ]
  }
 ],
 "metadata": {
  "hide_input": false,
  "kernelspec": {
   "display_name": "Python 2",
   "language": "python",
   "name": "python2"
  },
  "language_info": {
   "codemirror_mode": {
    "name": "ipython",
    "version": 2
   },
   "file_extension": ".py",
   "mimetype": "text/x-python",
   "name": "python",
   "nbconvert_exporter": "python",
   "pygments_lexer": "ipython2",
   "version": "2.7.13"
  },
  "latex_envs": {
   "LaTeX_envs_menu_present": true,
   "autocomplete": true,
   "bibliofile": "biblio.bib",
   "cite_by": "apalike",
   "current_citInitial": 1,
   "eqLabelWithNumbers": true,
   "eqNumInitial": 1,
   "hotkeys": {
    "equation": "Ctrl-E",
    "itemize": "Ctrl-I"
   },
   "labels_anchors": false,
   "latex_user_defs": false,
   "report_style_numbering": false,
   "user_envs_cfg": false
  }
 },
 "nbformat": 4,
 "nbformat_minor": 2
}
