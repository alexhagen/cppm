{
 "cells": [
  {
   "cell_type": "markdown",
   "metadata": {},
   "source": [
    "### tcp - TCP Socket Server and Client Classes\n",
    "\n",
    "Working with sockets is imperative if you ever want to get your data off of a device without using usb drives or other antiquated interfaces.  TCP sockets are connection based, so they're quite reliable, although optimal for a bit slower speeds than UDP, because of their error checking.  The TCP server is signal/slot based, but there are two clients, one signal/slot based, the other simple.\n",
    "\n",
    "#### Example\n",
    "\n",
    "We're going to implement a marco polo game using TCP sockets.  Note that the ip address will change when you implement this."
   ]
  },
  {
   "cell_type": "code",
   "execution_count": 1,
   "metadata": {
    "hide_input": false
   },
   "outputs": [],
   "source": [
    "from cppm import cppmagic"
   ]
  },
  {
   "cell_type": "code",
   "execution_count": 2,
   "metadata": {},
   "outputs": [
    {
     "ename": "CompilationError",
     "evalue": "In file included from tcp_server.cpp:1:0:\n../ah_tcp_serv.h: In member function ‘void ah_tcp_serv::start_b()’:\n../ah_tcp_serv.h:172:94: error: no matching function for call to ‘std::pair<int, int>::pair(int&, in_addr&)’\n                         connected_clients.insert(std::pair<int,int>(newfd,clientaddr.sin_addr));\n                                                                                              ^\nIn file included from /usr/include/c++/5/bits/stl_algobase.h:64:0,\n                 from /usr/include/c++/5/bits/char_traits.h:39,\n                 from /usr/include/c++/5/string:40,\n                 from ../ah_tcp_serv.h:13,\n                 from tcp_server.cpp:1:\n/usr/include/c++/5/bits/stl_pair.h:206:9: note: candidate: template<class ... _Args1, long unsigned int ..._Indexes1, class ... _Args2, long unsigned int ..._Indexes2> std::pair<_T1, _T2>::pair(std::tuple<_Args1 ...>&, std::tuple<_Args2 ...>&, std::_Index_tuple<_Indexes1 ...>, std::_Index_tuple<_Indexes2 ...>)\n         pair(tuple<_Args1...>&, tuple<_Args2...>&,\n         ^\n/usr/include/c++/5/bits/stl_pair.h:206:9: note:   template argument deduction/substitution failed:\nIn file included from tcp_server.cpp:1:0:\n../ah_tcp_serv.h:172:94: note:   mismatched types ‘std::tuple<_Args1 ...>’ and ‘int’\n                         connected_clients.insert(std::pair<int,int>(newfd,clientaddr.sin_addr));\n                                                                                              ^\nIn file included from /usr/include/c++/5/bits/stl_algobase.h:64:0,\n                 from /usr/include/c++/5/bits/char_traits.h:39,\n                 from /usr/include/c++/5/string:40,\n                 from ../ah_tcp_serv.h:13,\n                 from tcp_server.cpp:1:\n/usr/include/c++/5/bits/stl_pair.h:155:9: note: candidate: template<class ... _Args1, class ... _Args2> std::pair<_T1, _T2>::pair(std::piecewise_construct_t, std::tuple<_Args1 ...>, std::tuple<_Args2 ...>)\n         pair(piecewise_construct_t, tuple<_Args1...>, tuple<_Args2...>);\n         ^\n/usr/include/c++/5/bits/stl_pair.h:155:9: note:   template argument deduction/substitution failed:\nIn file included from tcp_server.cpp:1:0:\n../ah_tcp_serv.h:172:69: note:   cannot convert ‘((ah_tcp_serv*)this)->ah_tcp_serv::newfd’ (type ‘int’) to type ‘std::piecewise_construct_t’\n                         connected_clients.insert(std::pair<int,int>(newfd,clientaddr.sin_addr));\n                                                                     ^\nIn file included from /usr/include/c++/5/bits/stl_algobase.h:64:0,\n                 from /usr/include/c++/5/bits/char_traits.h:39,\n                 from /usr/include/c++/5/string:40,\n                 from ../ah_tcp_serv.h:13,\n                 from tcp_server.cpp:1:\n/usr/include/c++/5/bits/stl_pair.h:150:12: note: candidate: template<class _U1, class _U2, class> constexpr std::pair<_T1, _T2>::pair(std::pair<_U1, _U2>&&)\n  constexpr pair(pair<_U1, _U2>&& __p)\n            ^\n/usr/include/c++/5/bits/stl_pair.h:150:12: note:   template argument deduction/substitution failed:\nIn file included from tcp_server.cpp:1:0:\n../ah_tcp_serv.h:172:94: note:   mismatched types ‘std::pair<_T1, _T2>’ and ‘int’\n                         connected_clients.insert(std::pair<int,int>(newfd,clientaddr.sin_addr));\n                                                                                              ^\nIn file included from /usr/include/c++/5/bits/stl_algobase.h:64:0,\n                 from /usr/include/c++/5/bits/char_traits.h:39,\n                 from /usr/include/c++/5/string:40,\n                 from ../ah_tcp_serv.h:13,\n                 from tcp_server.cpp:1:\n/usr/include/c++/5/bits/stl_pair.h:144:12: note: candidate: template<class _U1, class _U2, class> constexpr std::pair<_T1, _T2>::pair(_U1&&, _U2&&)\n  constexpr pair(_U1&& __x, _U2&& __y)\n            ^\n/usr/include/c++/5/bits/stl_pair.h:144:12: note:   template argument deduction/substitution failed:\n/usr/include/c++/5/bits/stl_pair.h:141:38: error: no type named ‘type’ in ‘struct std::enable_if<false, void>’\n       template<class _U1, class _U2, class = typename\n                                      ^\n/usr/include/c++/5/bits/stl_pair.h:138:12: note: candidate: template<class _U2, class> constexpr std::pair<_T1, _T2>::pair(const _T1&, _U2&&)\n  constexpr pair(const _T1& __x, _U2&& __y)\n            ^\n/usr/include/c++/5/bits/stl_pair.h:138:12: note:   template argument deduction/substitution failed:\n/usr/include/c++/5/bits/stl_pair.h:136:27: error: no type named ‘type’ in ‘struct std::enable_if<false, void>’\n       template<class _U2, class = typename\n                           ^\n/usr/include/c++/5/bits/stl_pair.h:133:12: note: candidate: template<class _U1, class> constexpr std::pair<_T1, _T2>::pair(_U1&&, const _T2&)\n  constexpr pair(_U1&& __x, const _T2& __y)\n            ^\n/usr/include/c++/5/bits/stl_pair.h:133:12: note:   template argument deduction/substitution failed:\nIn file included from tcp_server.cpp:1:0:\n../ah_tcp_serv.h:172:86: note:   cannot convert ‘((ah_tcp_serv*)this)->ah_tcp_serv::clientaddr.sockaddr_in::sin_addr’ (type ‘in_addr’) to type ‘const int&’\n                         connected_clients.insert(std::pair<int,int>(newfd,clientaddr.sin_addr));\n                                                                                      ^\nIn file included from /usr/include/c++/5/bits/stl_algobase.h:64:0,\n                 from /usr/include/c++/5/bits/char_traits.h:39,\n                 from /usr/include/c++/5/string:40,\n                 from ../ah_tcp_serv.h:13,\n                 from tcp_server.cpp:1:\n/usr/include/c++/5/bits/stl_pair.h:128:17: note: candidate: constexpr std::pair<_T1, _T2>::pair(std::pair<_T1, _T2>&&) [with _T1 = int; _T2 = int]\n       constexpr pair(pair&&) = default;\n                 ^\n/usr/include/c++/5/bits/stl_pair.h:128:17: note:   candidate expects 1 argument, 2 provided\n/usr/include/c++/5/bits/stl_pair.h:127:17: note: candidate: constexpr std::pair<_T1, _T2>::pair(const std::pair<_T1, _T2>&) [with _T1 = int; _T2 = int]\n       constexpr pair(const pair&) = default;\n                 ^\n/usr/include/c++/5/bits/stl_pair.h:127:17: note:   candidate expects 1 argument, 2 provided\n/usr/include/c++/5/bits/stl_pair.h:124:12: note: candidate: template<class _U1, class _U2, class> constexpr std::pair<_T1, _T2>::pair(const std::pair<_U1, _U2>&)\n  constexpr pair(const pair<_U1, _U2>& __p)\n            ^\n/usr/include/c++/5/bits/stl_pair.h:124:12: note:   template argument deduction/substitution failed:\nIn file included from tcp_server.cpp:1:0:\n../ah_tcp_serv.h:172:94: note:   mismatched types ‘const std::pair<_T1, _T2>’ and ‘int’\n                         connected_clients.insert(std::pair<int,int>(newfd,clientaddr.sin_addr));\n                                                                                              ^\nIn file included from /usr/include/c++/5/bits/stl_algobase.h:64:0,\n                 from /usr/include/c++/5/bits/char_traits.h:39,\n                 from /usr/include/c++/5/string:40,\n                 from ../ah_tcp_serv.h:13,\n                 from tcp_server.cpp:1:\n/usr/include/c++/5/bits/stl_pair.h:112:26: note: candidate: constexpr std::pair<_T1, _T2>::pair(const _T1&, const _T2&) [with _T1 = int; _T2 = int]\n       _GLIBCXX_CONSTEXPR pair(const _T1& __a, const _T2& __b)\n                          ^\n/usr/include/c++/5/bits/stl_pair.h:112:26: note:   no known conversion for argument 2 from ‘in_addr’ to ‘const int&’\n/usr/include/c++/5/bits/stl_pair.h:108:26: note: candidate: constexpr std::pair<_T1, _T2>::pair() [with _T1 = int; _T2 = int]\n       _GLIBCXX_CONSTEXPR pair()\n                          ^\n/usr/include/c++/5/bits/stl_pair.h:108:26: note:   candidate expects 0 arguments, 2 provided\nIn file included from tcp_server.cpp:1:0:\n../ah_tcp_serv.h:174:66: error: no matching function for call to ‘sigslot::signal1<int>::emit(in_addr&)’\n                         client_connected.emit(clientaddr.sin_addr);\n                                                                  ^\nIn file included from ../ah_tcp_serv.h:16:0,\n                 from tcp_server.cpp:1:\n../sigslot.h:2023:8: note: candidate: void sigslot::signal1<arg1_type, mt_policy>::emit(arg1_type) [with arg1_type = int; mt_policy = sigslot::multi_threaded_local]\n   void emit(arg1_type a1)\r\n        ^\n../sigslot.h:2023:8: note:   no known conversion for argument 1 from ‘in_addr’ to ‘int’\ntcp_server.cpp: In constructor ‘reply::reply(char*)’:\ntcp_server.cpp:23:47: error: no matching function for call to ‘ah_tcp_serv::ah_tcp_serv(char*&)’\n     reply(char* _ipAddr) : ah_tcp_serv(_ipAddr) {};\n                                               ^\nIn file included from tcp_server.cpp:1:0:\n../ah_tcp_serv.h:74:1: note: candidate: ah_tcp_serv::ah_tcp_serv()\n ah_tcp_serv::ah_tcp_serv(void) {\n ^\n../ah_tcp_serv.h:74:1: note:   candidate expects 0 arguments, 1 provided\n../ah_tcp_serv.h:35:7: note: candidate: ah_tcp_serv::ah_tcp_serv(const ah_tcp_serv&)\n class ah_tcp_serv : public sigslot::has_slots<>{\n       ^\n../ah_tcp_serv.h:35:7: note:   no known conversion for argument 1 from ‘char*’ to ‘const ah_tcp_serv&’\n../ah_tcp_serv.h:35:7: note: candidate: ah_tcp_serv::ah_tcp_serv(ah_tcp_serv&&)\n../ah_tcp_serv.h:35:7: note:   no known conversion for argument 1 from ‘char*’ to ‘ah_tcp_serv&&’\ntcp_server.cpp: In constructor ‘reply::reply(int)’:\ntcp_server.cpp:24:41: error: no matching function for call to ‘ah_tcp_serv::ah_tcp_serv(int&)’\n     reply(int _port) : ah_tcp_serv(_port) {};\n                                         ^\nIn file included from tcp_server.cpp:1:0:\n../ah_tcp_serv.h:74:1: note: candidate: ah_tcp_serv::ah_tcp_serv()\n ah_tcp_serv::ah_tcp_serv(void) {\n ^\n../ah_tcp_serv.h:74:1: note:   candidate expects 0 arguments, 1 provided\n../ah_tcp_serv.h:35:7: note: candidate: ah_tcp_serv::ah_tcp_serv(const ah_tcp_serv&)\n class ah_tcp_serv : public sigslot::has_slots<>{\n       ^\n../ah_tcp_serv.h:35:7: note:   no known conversion for argument 1 from ‘int’ to ‘const ah_tcp_serv&’\n../ah_tcp_serv.h:35:7: note: candidate: ah_tcp_serv::ah_tcp_serv(ah_tcp_serv&&)\n../ah_tcp_serv.h:35:7: note:   no known conversion for argument 1 from ‘int’ to ‘ah_tcp_serv&&’\ntcp_server.cpp: In constructor ‘reply::reply(char*, int)’:\ntcp_server.cpp:25:64: error: no matching function for call to ‘ah_tcp_serv::ah_tcp_serv(char*&, int&)’\n     reply(char* _ipAddr,int _port) : ah_tcp_serv(_ipAddr, _port) {};\n                                                                ^\nIn file included from tcp_server.cpp:1:0:\n../ah_tcp_serv.h:74:1: note: candidate: ah_tcp_serv::ah_tcp_serv()\n ah_tcp_serv::ah_tcp_serv(void) {\n ^\n../ah_tcp_serv.h:74:1: note:   candidate expects 0 arguments, 2 provided\n../ah_tcp_serv.h:35:7: note: candidate: ah_tcp_serv::ah_tcp_serv(const ah_tcp_serv&)\n class ah_tcp_serv : public sigslot::has_slots<>{\n       ^\n../ah_tcp_serv.h:35:7: note:   candidate expects 1 argument, 2 provided\n../ah_tcp_serv.h:35:7: note: candidate: ah_tcp_serv::ah_tcp_serv(ah_tcp_serv&&)\n../ah_tcp_serv.h:35:7: note:   candidate expects 1 argument, 2 provided\n",
     "output_type": "error",
     "traceback": [
      "\u001b[0;31m---------------------------------------------------------------------------\u001b[0m",
      "\u001b[0;31mCompilationError\u001b[0m                          Traceback (most recent call last)",
      "\u001b[0;32m<ipython-input-2-dbb852b57891>\u001b[0m in \u001b[0;36m<module>\u001b[0;34m()\u001b[0m\n\u001b[0;32m----> 1\u001b[0;31m \u001b[0mget_ipython\u001b[0m\u001b[0;34m(\u001b[0m\u001b[0;34m)\u001b[0m\u001b[0;34m.\u001b[0m\u001b[0mrun_cell_magic\u001b[0m\u001b[0;34m(\u001b[0m\u001b[0;34mu'runcppnb'\u001b[0m\u001b[0;34m,\u001b[0m \u001b[0;34mu'tcp_server'\u001b[0m\u001b[0;34m,\u001b[0m \u001b[0;34mu'#include \"../ah_tcp_serv.h\"\\n#include \"../sigslot.h\"\\n#include <string.h>\\n\\nclass error : public sigslot::has_slots<>{\\npublic:\\n    error(void);\\n    void printerror(int,char*);\\n};\\n\\nerror::error(void) {\\n    printf(\"error initialized.\\\\n\");\\n}\\n\\nvoid error::printerror(int code,char* str){\\n    printf(\"ERROR CODE %d: %s\\\\n\",code,str);\\n}\\n\\n// we subclass the TCP server and override the reply commands\\nclass reply : public ah_tcp_serv {\\npublic:\\n    reply(void) : ah_tcp_serv(){};\\n    reply(char* _ipAddr) : ah_tcp_serv(_ipAddr) {};\\n    reply(int _port) : ah_tcp_serv(_port) {};\\n    reply(char* _ipAddr,int _port) : ah_tcp_serv(_ipAddr, _port) {};\\n    void send_reply(char*);\\n};\\n\\nvoid reply::send_reply(char* buf) {\\n    if (strcmp(buf, \"Polo\") == 0){\\n        char* rply = \"Polo\";\\n        send_msg(rply);\\n    }\\n}\\n\\nint main(void){\\n    //error *err_ind = new error();\\n    // Connect a subclass of tcp server named reply, with its extra\\n    // replying logic, to port 10000\\n    reply *server = new reply(10000);\\n    //server->error.connect(err_ind,&error::printerror);\\n    // Start the server in blocking mode, that means this program/server\\n    // will stay open until it\\'s killed\\n    server->start_b();\\n\\n    return 0;\\n}'\u001b[0m\u001b[0;34m)\u001b[0m\u001b[0;34m\u001b[0m\u001b[0m\n\u001b[0m",
      "\u001b[0;32m/usr/local/lib/python2.7/dist-packages/IPython/core/interactiveshell.pyc\u001b[0m in \u001b[0;36mrun_cell_magic\u001b[0;34m(self, magic_name, line, cell)\u001b[0m\n\u001b[1;32m   2113\u001b[0m             \u001b[0mmagic_arg_s\u001b[0m \u001b[0;34m=\u001b[0m \u001b[0mself\u001b[0m\u001b[0;34m.\u001b[0m\u001b[0mvar_expand\u001b[0m\u001b[0;34m(\u001b[0m\u001b[0mline\u001b[0m\u001b[0;34m,\u001b[0m \u001b[0mstack_depth\u001b[0m\u001b[0;34m)\u001b[0m\u001b[0;34m\u001b[0m\u001b[0m\n\u001b[1;32m   2114\u001b[0m             \u001b[0;32mwith\u001b[0m \u001b[0mself\u001b[0m\u001b[0;34m.\u001b[0m\u001b[0mbuiltin_trap\u001b[0m\u001b[0;34m:\u001b[0m\u001b[0;34m\u001b[0m\u001b[0m\n\u001b[0;32m-> 2115\u001b[0;31m                 \u001b[0mresult\u001b[0m \u001b[0;34m=\u001b[0m \u001b[0mfn\u001b[0m\u001b[0;34m(\u001b[0m\u001b[0mmagic_arg_s\u001b[0m\u001b[0;34m,\u001b[0m \u001b[0mcell\u001b[0m\u001b[0;34m)\u001b[0m\u001b[0;34m\u001b[0m\u001b[0m\n\u001b[0m\u001b[1;32m   2116\u001b[0m             \u001b[0;32mreturn\u001b[0m \u001b[0mresult\u001b[0m\u001b[0;34m\u001b[0m\u001b[0m\n\u001b[1;32m   2117\u001b[0m \u001b[0;34m\u001b[0m\u001b[0m\n",
      "\u001b[0;32m<decorator-gen-125>\u001b[0m in \u001b[0;36mruncppnb\u001b[0;34m(self, line, cell)\u001b[0m\n",
      "\u001b[0;32m/usr/local/lib/python2.7/dist-packages/IPython/core/magic.pyc\u001b[0m in \u001b[0;36m<lambda>\u001b[0;34m(f, *a, **k)\u001b[0m\n\u001b[1;32m    186\u001b[0m     \u001b[0;31m# but it's overkill for just that one bit of state.\u001b[0m\u001b[0;34m\u001b[0m\u001b[0;34m\u001b[0m\u001b[0m\n\u001b[1;32m    187\u001b[0m     \u001b[0;32mdef\u001b[0m \u001b[0mmagic_deco\u001b[0m\u001b[0;34m(\u001b[0m\u001b[0marg\u001b[0m\u001b[0;34m)\u001b[0m\u001b[0;34m:\u001b[0m\u001b[0;34m\u001b[0m\u001b[0m\n\u001b[0;32m--> 188\u001b[0;31m         \u001b[0mcall\u001b[0m \u001b[0;34m=\u001b[0m \u001b[0;32mlambda\u001b[0m \u001b[0mf\u001b[0m\u001b[0;34m,\u001b[0m \u001b[0;34m*\u001b[0m\u001b[0ma\u001b[0m\u001b[0;34m,\u001b[0m \u001b[0;34m**\u001b[0m\u001b[0mk\u001b[0m\u001b[0;34m:\u001b[0m \u001b[0mf\u001b[0m\u001b[0;34m(\u001b[0m\u001b[0;34m*\u001b[0m\u001b[0ma\u001b[0m\u001b[0;34m,\u001b[0m \u001b[0;34m**\u001b[0m\u001b[0mk\u001b[0m\u001b[0;34m)\u001b[0m\u001b[0;34m\u001b[0m\u001b[0m\n\u001b[0m\u001b[1;32m    189\u001b[0m \u001b[0;34m\u001b[0m\u001b[0m\n\u001b[1;32m    190\u001b[0m         \u001b[0;32mif\u001b[0m \u001b[0mcallable\u001b[0m\u001b[0;34m(\u001b[0m\u001b[0marg\u001b[0m\u001b[0;34m)\u001b[0m\u001b[0;34m:\u001b[0m\u001b[0;34m\u001b[0m\u001b[0m\n",
      "\u001b[0;32m/home/ahagen/code/cppm/cppmagic.pyc\u001b[0m in \u001b[0;36mruncppnb\u001b[0;34m(self, line, cell)\u001b[0m\n\u001b[1;32m     51\u001b[0m         \u001b[0marr\u001b[0m \u001b[0;34m=\u001b[0m \u001b[0mline\u001b[0m\u001b[0;34m.\u001b[0m\u001b[0msplit\u001b[0m\u001b[0;34m(\u001b[0m\u001b[0;34m)\u001b[0m\u001b[0;34m\u001b[0m\u001b[0m\n\u001b[1;32m     52\u001b[0m         \u001b[0mself\u001b[0m\u001b[0;34m.\u001b[0m\u001b[0mcpp\u001b[0m\u001b[0;34m(\u001b[0m\u001b[0mline\u001b[0m\u001b[0;34m,\u001b[0m \u001b[0mcell\u001b[0m\u001b[0;34m)\u001b[0m\u001b[0;34m\u001b[0m\u001b[0m\n\u001b[0;32m---> 53\u001b[0;31m         \u001b[0mself\u001b[0m\u001b[0;34m.\u001b[0m\u001b[0mcompile\u001b[0m\u001b[0;34m(\u001b[0m\u001b[0;34m)\u001b[0m\u001b[0;34m\u001b[0m\u001b[0m\n\u001b[0m\u001b[1;32m     54\u001b[0m         \u001b[0mself\u001b[0m\u001b[0;34m.\u001b[0m\u001b[0mrunnb\u001b[0m\u001b[0;34m(\u001b[0m\u001b[0marr\u001b[0m\u001b[0;34m[\u001b[0m\u001b[0;36m0\u001b[0m\u001b[0;34m]\u001b[0m\u001b[0;34m,\u001b[0m \u001b[0marr\u001b[0m\u001b[0;34m[\u001b[0m\u001b[0;36m1\u001b[0m\u001b[0;34m:\u001b[0m\u001b[0;34m]\u001b[0m\u001b[0;34m)\u001b[0m\u001b[0;34m\u001b[0m\u001b[0m\n\u001b[1;32m     55\u001b[0m \u001b[0;34m\u001b[0m\u001b[0m\n",
      "\u001b[0;32m/home/ahagen/code/cppm/cppmagic.pyc\u001b[0m in \u001b[0;36mcompile\u001b[0;34m(self)\u001b[0m\n\u001b[1;32m     78\u001b[0m         \u001b[0;34m(\u001b[0m\u001b[0mout\u001b[0m\u001b[0;34m,\u001b[0m \u001b[0merr\u001b[0m\u001b[0;34m)\u001b[0m \u001b[0;34m=\u001b[0m \u001b[0mp\u001b[0m\u001b[0;34m.\u001b[0m\u001b[0mcommunicate\u001b[0m\u001b[0;34m(\u001b[0m\u001b[0;34m)\u001b[0m\u001b[0;34m\u001b[0m\u001b[0m\n\u001b[1;32m     79\u001b[0m         \u001b[0;32mif\u001b[0m \u001b[0mlen\u001b[0m\u001b[0;34m(\u001b[0m\u001b[0merr\u001b[0m\u001b[0;34m)\u001b[0m \u001b[0;34m>\u001b[0m \u001b[0;36m0\u001b[0m\u001b[0;34m:\u001b[0m\u001b[0;34m\u001b[0m\u001b[0m\n\u001b[0;32m---> 80\u001b[0;31m             \u001b[0;32mraise\u001b[0m \u001b[0mCompilationError\u001b[0m\u001b[0;34m(\u001b[0m\u001b[0merr\u001b[0m\u001b[0;34m)\u001b[0m\u001b[0;34m\u001b[0m\u001b[0m\n\u001b[0m\u001b[1;32m     81\u001b[0m \u001b[0;34m\u001b[0m\u001b[0m\n\u001b[1;32m     82\u001b[0m     \u001b[0;32mdef\u001b[0m \u001b[0mrun\u001b[0m\u001b[0;34m(\u001b[0m\u001b[0mself\u001b[0m\u001b[0;34m,\u001b[0m \u001b[0mbinary\u001b[0m\u001b[0;34m,\u001b[0m \u001b[0margs\u001b[0m\u001b[0;34m)\u001b[0m\u001b[0;34m:\u001b[0m\u001b[0;34m\u001b[0m\u001b[0m\n",
      "\u001b[0;31mCompilationError\u001b[0m: In file included from tcp_server.cpp:1:0:\n../ah_tcp_serv.h: In member function ‘void ah_tcp_serv::start_b()’:\n../ah_tcp_serv.h:172:94: error: no matching function for call to ‘std::pair<int, int>::pair(int&, in_addr&)’\n                         connected_clients.insert(std::pair<int,int>(newfd,clientaddr.sin_addr));\n                                                                                              ^\nIn file included from /usr/include/c++/5/bits/stl_algobase.h:64:0,\n                 from /usr/include/c++/5/bits/char_traits.h:39,\n                 from /usr/include/c++/5/string:40,\n                 from ../ah_tcp_serv.h:13,\n                 from tcp_server.cpp:1:\n/usr/include/c++/5/bits/stl_pair.h:206:9: note: candidate: template<class ... _Args1, long unsigned int ..._Indexes1, class ... _Args2, long unsigned int ..._Indexes2> std::pair<_T1, _T2>::pair(std::tuple<_Args1 ...>&, std::tuple<_Args2 ...>&, std::_Index_tuple<_Indexes1 ...>, std::_Index_tuple<_Indexes2 ...>)\n         pair(tuple<_Args1...>&, tuple<_Args2...>&,\n         ^\n/usr/include/c++/5/bits/stl_pair.h:206:9: note:   template argument deduction/substitution failed:\nIn file included from tcp_server.cpp:1:0:\n../ah_tcp_serv.h:172:94: note:   mismatched types ‘std::tuple<_Args1 ...>’ and ‘int’\n                         connected_clients.insert(std::pair<int,int>(newfd,clientaddr.sin_addr));\n                                                                                              ^\nIn file included from /usr/include/c++/5/bits/stl_algobase.h:64:0,\n                 from /usr/include/c++/5/bits/char_traits.h:39,\n                 from /usr/include/c++/5/string:40,\n                 from ../ah_tcp_serv.h:13,\n                 from tcp_server.cpp:1:\n/usr/include/c++/5/bits/stl_pair.h:155:9: note: candidate: template<class ... _Args1, class ... _Args2> std::pair<_T1, _T2>::pair(std::piecewise_construct_t, std::tuple<_Args1 ...>, std::tuple<_Args2 ...>)\n         pair(piecewise_construct_t, tuple<_Args1...>, tuple<_Args2...>);\n         ^\n/usr/include/c++/5/bits/stl_pair.h:155:9: note:   template argument deduction/substitution failed:\nIn file included from tcp_server.cpp:1:0:\n../ah_tcp_serv.h:172:69: note:   cannot convert ‘((ah_tcp_serv*)this)->ah_tcp_serv::newfd’ (type ‘int’) to type ‘std::piecewise_construct_t’\n                         connected_clients.insert(std::pair<int,int>(newfd,clientaddr.sin_addr));\n                                                                     ^\nIn file included from /usr/include/c++/5/bits/stl_algobase.h:64:0,\n                 from /usr/include/c++/5/bits/char_traits.h:39,\n                 from /usr/include/c++/5/string:40,\n                 from ../ah_tcp_serv.h:13,\n                 from tcp_server.cpp:1:\n/usr/include/c++/5/bits/stl_pair.h:150:12: note: candidate: template<class _U1, class _U2, class> constexpr std::pair<_T1, _T2>::pair(std::pair<_U1, _U2>&&)\n  constexpr pair(pair<_U1, _U2>&& __p)\n            ^\n/usr/include/c++/5/bits/stl_pair.h:150:12: note:   template argument deduction/substitution failed:\nIn file included from tcp_server.cpp:1:0:\n../ah_tcp_serv.h:172:94: note:   mismatched types ‘std::pair<_T1, _T2>’ and ‘int’\n                         connected_clients.insert(std::pair<int,int>(newfd,clientaddr.sin_addr));\n                                                                                              ^\nIn file included from /usr/include/c++/5/bits/stl_algobase.h:64:0,\n                 from /usr/include/c++/5/bits/char_traits.h:39,\n                 from /usr/include/c++/5/string:40,\n                 from ../ah_tcp_serv.h:13,\n                 from tcp_server.cpp:1:\n/usr/include/c++/5/bits/stl_pair.h:144:12: note: candidate: template<class _U1, class _U2, class> constexpr std::pair<_T1, _T2>::pair(_U1&&, _U2&&)\n  constexpr pair(_U1&& __x, _U2&& __y)\n            ^\n/usr/include/c++/5/bits/stl_pair.h:144:12: note:   template argument deduction/substitution failed:\n/usr/include/c++/5/bits/stl_pair.h:141:38: error: no type named ‘type’ in ‘struct std::enable_if<false, void>’\n       template<class _U1, class _U2, class = typename\n                                      ^\n/usr/include/c++/5/bits/stl_pair.h:138:12: note: candidate: template<class _U2, class> constexpr std::pair<_T1, _T2>::pair(const _T1&, _U2&&)\n  constexpr pair(const _T1& __x, _U2&& __y)\n            ^\n/usr/include/c++/5/bits/stl_pair.h:138:12: note:   template argument deduction/substitution failed:\n/usr/include/c++/5/bits/stl_pair.h:136:27: error: no type named ‘type’ in ‘struct std::enable_if<false, void>’\n       template<class _U2, class = typename\n                           ^\n/usr/include/c++/5/bits/stl_pair.h:133:12: note: candidate: template<class _U1, class> constexpr std::pair<_T1, _T2>::pair(_U1&&, const _T2&)\n  constexpr pair(_U1&& __x, const _T2& __y)\n            ^\n/usr/include/c++/5/bits/stl_pair.h:133:12: note:   template argument deduction/substitution failed:\nIn file included from tcp_server.cpp:1:0:\n../ah_tcp_serv.h:172:86: note:   cannot convert ‘((ah_tcp_serv*)this)->ah_tcp_serv::clientaddr.sockaddr_in::sin_addr’ (type ‘in_addr’) to type ‘const int&’\n                         connected_clients.insert(std::pair<int,int>(newfd,clientaddr.sin_addr));\n                                                                                      ^\nIn file included from /usr/include/c++/5/bits/stl_algobase.h:64:0,\n                 from /usr/include/c++/5/bits/char_traits.h:39,\n                 from /usr/include/c++/5/string:40,\n                 from ../ah_tcp_serv.h:13,\n                 from tcp_server.cpp:1:\n/usr/include/c++/5/bits/stl_pair.h:128:17: note: candidate: constexpr std::pair<_T1, _T2>::pair(std::pair<_T1, _T2>&&) [with _T1 = int; _T2 = int]\n       constexpr pair(pair&&) = default;\n                 ^\n/usr/include/c++/5/bits/stl_pair.h:128:17: note:   candidate expects 1 argument, 2 provided\n/usr/include/c++/5/bits/stl_pair.h:127:17: note: candidate: constexpr std::pair<_T1, _T2>::pair(const std::pair<_T1, _T2>&) [with _T1 = int; _T2 = int]\n       constexpr pair(const pair&) = default;\n                 ^\n/usr/include/c++/5/bits/stl_pair.h:127:17: note:   candidate expects 1 argument, 2 provided\n/usr/include/c++/5/bits/stl_pair.h:124:12: note: candidate: template<class _U1, class _U2, class> constexpr std::pair<_T1, _T2>::pair(const std::pair<_U1, _U2>&)\n  constexpr pair(const pair<_U1, _U2>& __p)\n            ^\n/usr/include/c++/5/bits/stl_pair.h:124:12: note:   template argument deduction/substitution failed:\nIn file included from tcp_server.cpp:1:0:\n../ah_tcp_serv.h:172:94: note:   mismatched types ‘const std::pair<_T1, _T2>’ and ‘int’\n                         connected_clients.insert(std::pair<int,int>(newfd,clientaddr.sin_addr));\n                                                                                              ^\nIn file included from /usr/include/c++/5/bits/stl_algobase.h:64:0,\n                 from /usr/include/c++/5/bits/char_traits.h:39,\n                 from /usr/include/c++/5/string:40,\n                 from ../ah_tcp_serv.h:13,\n                 from tcp_server.cpp:1:\n/usr/include/c++/5/bits/stl_pair.h:112:26: note: candidate: constexpr std::pair<_T1, _T2>::pair(const _T1&, const _T2&) [with _T1 = int; _T2 = int]\n       _GLIBCXX_CONSTEXPR pair(const _T1& __a, const _T2& __b)\n                          ^\n/usr/include/c++/5/bits/stl_pair.h:112:26: note:   no known conversion for argument 2 from ‘in_addr’ to ‘const int&’\n/usr/include/c++/5/bits/stl_pair.h:108:26: note: candidate: constexpr std::pair<_T1, _T2>::pair() [with _T1 = int; _T2 = int]\n       _GLIBCXX_CONSTEXPR pair()\n                          ^\n/usr/include/c++/5/bits/stl_pair.h:108:26: note:   candidate expects 0 arguments, 2 provided\nIn file included from tcp_server.cpp:1:0:\n../ah_tcp_serv.h:174:66: error: no matching function for call to ‘sigslot::signal1<int>::emit(in_addr&)’\n                         client_connected.emit(clientaddr.sin_addr);\n                                                                  ^\nIn file included from ../ah_tcp_serv.h:16:0,\n                 from tcp_server.cpp:1:\n../sigslot.h:2023:8: note: candidate: void sigslot::signal1<arg1_type, mt_policy>::emit(arg1_type) [with arg1_type = int; mt_policy = sigslot::multi_threaded_local]\n   void emit(arg1_type a1)\r\n        ^\n../sigslot.h:2023:8: note:   no known conversion for argument 1 from ‘in_addr’ to ‘int’\ntcp_server.cpp: In constructor ‘reply::reply(char*)’:\ntcp_server.cpp:23:47: error: no matching function for call to ‘ah_tcp_serv::ah_tcp_serv(char*&)’\n     reply(char* _ipAddr) : ah_tcp_serv(_ipAddr) {};\n                                               ^\nIn file included from tcp_server.cpp:1:0:\n../ah_tcp_serv.h:74:1: note: candidate: ah_tcp_serv::ah_tcp_serv()\n ah_tcp_serv::ah_tcp_serv(void) {\n ^\n../ah_tcp_serv.h:74:1: note:   candidate expects 0 arguments, 1 provided\n../ah_tcp_serv.h:35:7: note: candidate: ah_tcp_serv::ah_tcp_serv(const ah_tcp_serv&)\n class ah_tcp_serv : public sigslot::has_slots<>{\n       ^\n../ah_tcp_serv.h:35:7: note:   no known conversion for argument 1 from ‘char*’ to ‘const ah_tcp_serv&’\n../ah_tcp_serv.h:35:7: note: candidate: ah_tcp_serv::ah_tcp_serv(ah_tcp_serv&&)\n../ah_tcp_serv.h:35:7: note:   no known conversion for argument 1 from ‘char*’ to ‘ah_tcp_serv&&’\ntcp_server.cpp: In constructor ‘reply::reply(int)’:\ntcp_server.cpp:24:41: error: no matching function for call to ‘ah_tcp_serv::ah_tcp_serv(int&)’\n     reply(int _port) : ah_tcp_serv(_port) {};\n                                         ^\nIn file included from tcp_server.cpp:1:0:\n../ah_tcp_serv.h:74:1: note: candidate: ah_tcp_serv::ah_tcp_serv()\n ah_tcp_serv::ah_tcp_serv(void) {\n ^\n../ah_tcp_serv.h:74:1: note:   candidate expects 0 arguments, 1 provided\n../ah_tcp_serv.h:35:7: note: candidate: ah_tcp_serv::ah_tcp_serv(const ah_tcp_serv&)\n class ah_tcp_serv : public sigslot::has_slots<>{\n       ^\n../ah_tcp_serv.h:35:7: note:   no known conversion for argument 1 from ‘int’ to ‘const ah_tcp_serv&’\n../ah_tcp_serv.h:35:7: note: candidate: ah_tcp_serv::ah_tcp_serv(ah_tcp_serv&&)\n../ah_tcp_serv.h:35:7: note:   no known conversion for argument 1 from ‘int’ to ‘ah_tcp_serv&&’\ntcp_server.cpp: In constructor ‘reply::reply(char*, int)’:\ntcp_server.cpp:25:64: error: no matching function for call to ‘ah_tcp_serv::ah_tcp_serv(char*&, int&)’\n     reply(char* _ipAddr,int _port) : ah_tcp_serv(_ipAddr, _port) {};\n                                                                ^\nIn file included from tcp_server.cpp:1:0:\n../ah_tcp_serv.h:74:1: note: candidate: ah_tcp_serv::ah_tcp_serv()\n ah_tcp_serv::ah_tcp_serv(void) {\n ^\n../ah_tcp_serv.h:74:1: note:   candidate expects 0 arguments, 2 provided\n../ah_tcp_serv.h:35:7: note: candidate: ah_tcp_serv::ah_tcp_serv(const ah_tcp_serv&)\n class ah_tcp_serv : public sigslot::has_slots<>{\n       ^\n../ah_tcp_serv.h:35:7: note:   candidate expects 1 argument, 2 provided\n../ah_tcp_serv.h:35:7: note: candidate: ah_tcp_serv::ah_tcp_serv(ah_tcp_serv&&)\n../ah_tcp_serv.h:35:7: note:   candidate expects 1 argument, 2 provided\n"
     ]
    }
   ],
   "source": [
    "%%runcppnb tcp_server\n",
    "#include \"../ah_tcp_serv.h\"\n",
    "#include \"../sigslot.h\"\n",
    "#include <string.h>\n",
    "\n",
    "class error : public sigslot::has_slots<>{\n",
    "public:\n",
    "    error(void);\n",
    "    void printerror(int,char*);\n",
    "};\n",
    "\n",
    "error::error(void) {\n",
    "    printf(\"error initialized.\\n\");\n",
    "}\n",
    "\n",
    "void error::printerror(int code,char* str){\n",
    "    printf(\"ERROR CODE %d: %s\\n\",code,str);\n",
    "}\n",
    "\n",
    "// we subclass the TCP server and override the reply commands\n",
    "class reply : public ah_tcp_serv {\n",
    "public:\n",
    "    reply(void) : ah_tcp_serv(){};\n",
    "    reply(char* _ipAddr) : ah_tcp_serv(_ipAddr) {};\n",
    "    reply(int _port) : ah_tcp_serv(_port) {};\n",
    "    reply(char* _ipAddr,int _port) : ah_tcp_serv(_ipAddr, _port) {};\n",
    "    void send_reply(char*);\n",
    "};\n",
    "\n",
    "void reply::send_reply(char* buf) {\n",
    "    if (strcmp(buf, \"Polo\") == 0){\n",
    "        char* rply = \"Polo\";\n",
    "        send_msg(rply);\n",
    "    }\n",
    "}\n",
    "\n",
    "int main(void){\n",
    "    //error *err_ind = new error();\n",
    "    // Connect a subclass of tcp server named reply, with its extra\n",
    "    // replying logic, to port 10000\n",
    "    reply *server = new reply(10000);\n",
    "    //server->error.connect(err_ind,&error::printerror);\n",
    "    // Start the server in blocking mode, that means this program/server\n",
    "    // will stay open until it's killed\n",
    "    server->start_b();\n",
    "\n",
    "    return 0;\n",
    "}"
   ]
  },
  {
   "cell_type": "markdown",
   "metadata": {},
   "source": [
    "Now, to connect to the memory.  We have to attach using the same key, which is a little bit of a paint, but if you use macros effectively, it'll just be like pointing at a file.  This client will be way faster than using files though, for time intensive processes, use these ``shm``s."
   ]
  },
  {
   "cell_type": "code",
   "execution_count": 3,
   "metadata": {},
   "outputs": [
    {
     "name": "stdout",
     "output_type": "stream",
     "text": [
      "Episode 1 in which Sherlock is dead!\n",
      "Episode 2 in which Sherlock is now alive again!\n",
      "Episode 3 in which Sherlock is a good guy!\n",
      "Episode 4 in which Sherlock is a bad guy!\n",
      "\n"
     ]
    }
   ],
   "source": [
    "%%runcpp shm_client\n",
    "#include \"../ah_shm.h\"\n",
    "#include <string>\n",
    "\n",
    "int main(void){\n",
    "    shm_client<std::string> *holmes = new shm_client<std::string>(5678);\n",
    "    for(int i=1; i<5; i++){\n",
    "        const char* desc = holmes->get().c_str();\n",
    "        printf(\"Episode %d in which Sherlock %s\\n\", i, desc);\n",
    "        sleep(1);\n",
    "    }\n",
    "    delete holmes;\n",
    "    return 0;\n",
    "}"
   ]
  },
  {
   "cell_type": "markdown",
   "metadata": {},
   "source": [
    "Now, we just have to stop the server to make sure we're not leaving too many things open."
   ]
  },
  {
   "cell_type": "code",
   "execution_count": 4,
   "metadata": {},
   "outputs": [],
   "source": [
    "%killall"
   ]
  },
  {
   "cell_type": "markdown",
   "metadata": {},
   "source": [
    "Just a note:  I'm still working on the cleanup of this.  To check that I've removed all of the attached shared memory, you can use the bash line"
   ]
  },
  {
   "cell_type": "code",
   "execution_count": 5,
   "metadata": {},
   "outputs": [
    {
     "name": "stdout",
     "output_type": "stream",
     "text": [
      "IPC status from <running system> as of Wed May 24 10:18:34 EDT 2017\r\n",
      "T     ID     KEY        MODE       OWNER    GROUP\r\n",
      "Message Queues:\r\n",
      "\r\n",
      "T     ID     KEY        MODE       OWNER    GROUP\r\n",
      "Shared Memory:\r\n",
      "m  65536 0x52020016 --rw-------     root    wheel\r\n",
      "m 196609 0x0000162e --rw-rw-rw-   ahagen    staff\r\n",
      "\r\n",
      "T     ID     KEY        MODE       OWNER    GROUP\r\n",
      "Semaphores:\r\n",
      "\r\n"
     ]
    }
   ],
   "source": [
    "!ipcs"
   ]
  },
  {
   "cell_type": "markdown",
   "metadata": {},
   "source": [
    "and to remove it, find the ``KEY`` corresponding to it and use ``ipcrm``.  Note that the KEY is usually the hexadecimal representation of the ``key`` you used in ``c++``, so you can just use that:"
   ]
  },
  {
   "cell_type": "code",
   "execution_count": 6,
   "metadata": {},
   "outputs": [],
   "source": [
    "!ipcrm -M 5678"
   ]
  }
 ],
 "metadata": {
  "hide_input": false,
  "kernelspec": {
   "display_name": "Python 2",
   "language": "python",
   "name": "python2"
  },
  "language_info": {
   "codemirror_mode": {
    "name": "ipython",
    "version": 2
   },
   "file_extension": ".py",
   "mimetype": "text/x-python",
   "name": "python",
   "nbconvert_exporter": "python",
   "pygments_lexer": "ipython2",
   "version": "2.7.12"
  },
  "latex_envs": {
   "LaTeX_envs_menu_present": true,
   "autocomplete": true,
   "bibliofile": "biblio.bib",
   "cite_by": "apalike",
   "current_citInitial": 1,
   "eqLabelWithNumbers": true,
   "eqNumInitial": 1,
   "hotkeys": {
    "equation": "Ctrl-E",
    "itemize": "Ctrl-I"
   },
   "labels_anchors": false,
   "latex_user_defs": false,
   "report_style_numbering": false,
   "user_envs_cfg": false
  }
 },
 "nbformat": 4,
 "nbformat_minor": 2
}
